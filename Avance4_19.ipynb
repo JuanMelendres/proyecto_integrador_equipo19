{
  "nbformat": 4,
  "nbformat_minor": 0,
  "metadata": {
    "colab": {
      "provenance": [],
      "include_colab_link": true
    },
    "kernelspec": {
      "name": "python3",
      "display_name": "Python 3"
    },
    "language_info": {
      "name": "python"
    }
  },
  "cells": [
    {
      "cell_type": "markdown",
      "metadata": {
        "id": "view-in-github",
        "colab_type": "text"
      },
      "source": [
        "<a href=\"https://colab.research.google.com/github/JuanMelendres/proyecto_integrador_equipo19/blob/master/Avance4_19.ipynb\" target=\"_parent\"><img src=\"https://colab.research.google.com/assets/colab-badge.svg\" alt=\"Open In Colab\"/></a>"
      ]
    },
    {
      "cell_type": "markdown",
      "source": [
        "#Avance 4. Modelos alternativos\n",
        "\n",
        "##Optimización de flujos quirúrgicos mediante IA\n",
        "\n",
        "###Oscar Damián Vela Noyola A00821831\n",
        "###Juan Antonio Melendres Villa A00369017\n",
        "###Miguel Ángel Villanueva Amador A01793890\n"
      ],
      "metadata": {
        "id": "CZem_fqrWlzm"
      }
    },
    {
      "cell_type": "markdown",
      "source": [
        "#### Librerías"
      ],
      "metadata": {
        "id": "i5Gpo3-r0qYx"
      }
    },
    {
      "cell_type": "markdown",
      "source": [
        "Importamos las librerias que se llegaran a necesitar"
      ],
      "metadata": {
        "id": "9OgBlTkEdjW-"
      }
    },
    {
      "cell_type": "code",
      "execution_count": null,
      "metadata": {
        "id": "3IlhX5caFOW6"
      },
      "outputs": [],
      "source": [
        "# --- Importaciones esenciales para análisis de datos y visualización ---\n",
        "import pandas as pd  # Manipulación y análisis eficiente de datos tabulares\n",
        "import matplotlib.pyplot as plt  # Creación de gráficos personalizados\n",
        "import seaborn as sns  # Visualización estadística avanzada basada en matplotlib\n",
        "import numpy as np  # Operaciones matemáticas avanzadas y manejo eficiente de arrays\n",
        "from IPython.display import display, HTML  # Mostrar tablas y HTML en Jupyter notebooks\n",
        "\n",
        "# --- Estadística y análisis avanzado ---\n",
        "from scipy import stats  # Funciones estadísticas avanzadas como pruebas de hipótesis y distribuciones\n",
        "\n",
        "# --- Procesamiento de texto ---\n",
        "import re  # Manipulación avanzada de texto mediante expresiones regulares\n",
        "import unicodedata  # Normalización de texto (remover acentos y caracteres especiales)\n",
        "from collections import Counter  # Conteo eficiente de elementos (frecuencia de palabras o categorías)\n",
        "from wordcloud import WordCloud  # Generación de nubes de palabras para visualización de texto\n",
        "from sklearn.feature_extraction.text import TfidfVectorizer  # Vectorización del texto mediante TF-IDF\n",
        "\n",
        "# --- Clustering y modelado de texto ---\n",
        "from sklearn.cluster import KMeans  # Clustering no supervisado para agrupamiento de datos\n",
        "from gensim import corpora  # Creación de corpus para análisis de texto en modelos temáticos\n",
        "from gensim.models import LsiModel  # Modelado de temas mediante Latent Semantic Indexing (LSI)\n",
        "from gensim.models import CoherenceModel  # Evaluación de coherencia para modelos de temas\n",
        "from sklearn.preprocessing import StandardScaler  # Estandarización de datos, útil para algoritmos que requieren datos escalados\n",
        "\n",
        "# --- Transformación y normalización de datos ---\n",
        "from sklearn.preprocessing import MinMaxScaler  # Normalización de datos en un rango específico (0,1)\n",
        "\n",
        "# --- Modelos de clasificación y evaluación ---\n",
        "from sklearn.svm import SVC  # Máquina de soporte vectorial (SVM) para clasificación\n",
        "from sklearn.tree import DecisionTreeClassifier  # Clasificación con árboles de decisión\n",
        "from sklearn.naive_bayes import GaussianNB  # Clasificación usando Naive Bayes\n",
        "from sklearn.neighbors import KNeighborsClassifier  # Clasificación con K-vecinos más cercanos (KNN)\n",
        "from sklearn.neural_network import MLPClassifier  # Clasificación con redes neuronales (MLP)\n",
        "from sklearn.linear_model import LogisticRegression  # Regresión Logística para clasificación binaria o multiclase\n",
        "from sklearn.model_selection import GridSearchCV  # Búsqueda de hiperparámetros mediante validación cruzada\n",
        "from sklearn.model_selection import cross_val_score, train_test_split  # División de datos y validación cruzada\n",
        "from sklearn.ensemble import RandomForestClassifier  # Clasificación con Random Forest\n",
        "from sklearn.feature_selection import RFE  # Selección de características mediante eliminación recursiva\n",
        "from sklearn.model_selection import learning_curve  # Evaluación del modelo con curvas de aprendizaje\n",
        "import time  # Control del tiempo de ejecución\n",
        "from sklearn.metrics import accuracy_score, f1_score, classification_report, confusion_matrix, roc_curve, auc, precision_score, recall_score  # Métricas de evaluación\n",
        "\n",
        "# --- Gestión de advertencias ---\n",
        "import warnings  # Control de advertencias\n",
        "warnings.filterwarnings('ignore')  # Supresión de advertencias para evitar ruido en la salida"
      ]
    },
    {
      "cell_type": "markdown",
      "source": [
        "#### Cargar set de datos original"
      ],
      "metadata": {
        "id": "EB20XDrk0ukm"
      }
    },
    {
      "cell_type": "markdown",
      "source": [
        "Cargamos el data set original"
      ],
      "metadata": {
        "id": "JzocJ7sYdpon"
      }
    },
    {
      "cell_type": "code",
      "source": [
        "# Load the data from the first sheet, and assign it to variable \"df\"\n",
        "df = pd.read_excel('variables_quirurgicas_finales.xlsx')\n",
        "# Show the first 10 rows using dataframe.head() method\n",
        "df.head(10)"
      ],
      "metadata": {
        "colab": {
          "base_uri": "https://localhost:8080/",
          "height": 412
        },
        "id": "02ctqEMtHOfN",
        "outputId": "b27752bc-92ca-48bb-f750-4b00efc5c26f"
      },
      "execution_count": null,
      "outputs": [
        {
          "output_type": "execute_result",
          "data": {
            "text/plain": [
              "     edad_n  peso_yj_n  tallacm_n  imc_yj_n  hto_yj_n  leucostotales_yj_n  \\\n",
              "0 -0.302744   0.135252   0.293533  0.266600 -0.031104            0.309829   \n",
              "1 -0.969248   0.022076  -0.057890  0.266600 -0.071345            0.614379   \n",
              "2  0.190040  -0.009149  -0.057890  0.237438 -0.319087            0.020478   \n",
              "3 -0.380527   0.148237  -0.163066  0.413111 -0.251789            0.171215   \n",
              "4 -0.075975   0.173521  -0.022805  0.394822  0.108825            0.160273   \n",
              "5 -0.733886   0.094835  -0.057890  0.333700 -0.378056            0.769683   \n",
              "6  0.537220   0.135252   0.293533  0.266600 -0.509317            0.413679   \n",
              "7  0.446171   0.155917  -0.512783  0.522450 -0.231825           -0.025226   \n",
              "8 -0.075975   0.348392  -0.268124  0.613328 -0.364744            0.469807   \n",
              "9 -0.302744  -0.009149  -0.057890  0.237438  0.153807            0.636566   \n",
              "\n",
              "   neutrofilos_yj_n   tp_yj_n  ttp_yj_n  glucosa_yj_n  ...  qsanormal  \\\n",
              "0          0.013707  0.385542  0.208330      0.573646  ...          0   \n",
              "1          0.637991  0.176659  0.174646      0.521957  ...          1   \n",
              "2          0.051430  0.163757 -0.087805      0.569326  ...          1   \n",
              "3          0.026994  0.237176  0.067576      0.494980  ...          0   \n",
              "4         -0.262229  0.176659  0.081984      0.551329  ...          0   \n",
              "5          0.871388  0.441306  0.040554      0.644456  ...          1   \n",
              "6          0.159186  0.426109 -0.046407      0.598190  ...          1   \n",
              "7         -0.373878  0.340914  0.109591      0.551329  ...          1   \n",
              "8          0.386854  0.201643 -0.050048      0.425665  ...          1   \n",
              "9          0.732157  0.281218  0.008765      0.617010  ...          1   \n",
              "\n",
              "   sexo_binary  anestesia_2  anestesia_3  anestesia_4  anestesia_5  \\\n",
              "0            1            1            0            0            0   \n",
              "1            0            0            0            0            0   \n",
              "2            0            0            0            0            0   \n",
              "3            0            0            0            0            0   \n",
              "4            1            0            0            0            0   \n",
              "5            1            0            0            0            0   \n",
              "6            1            0            0            0            0   \n",
              "7            0            1            0            0            0   \n",
              "8            0            0            0            0            0   \n",
              "9            0            0            0            0            0   \n",
              "\n",
              "   nitritos_binary  egoinfeccin_binary  egoanormal_binary  riesgo_quirurgico  \n",
              "0                0                   0                  1                  1  \n",
              "1                0                   0                  0                  2  \n",
              "2                0                   0                  0                  3  \n",
              "3                0                   0                  0                  2  \n",
              "4                0                   0                  0                  2  \n",
              "5                0                   0                  0                  2  \n",
              "6                0                   0                  0                  2  \n",
              "7                0                   0                  0                  1  \n",
              "8                0                   0                  0                  1  \n",
              "9                0                   0                  0                  2  \n",
              "\n",
              "[10 rows x 46 columns]"
            ],
            "text/html": [
              "\n",
              "  <div id=\"df-c56e0abf-7b1b-485a-9f5e-8bc1173a16cd\" class=\"colab-df-container\">\n",
              "    <div>\n",
              "<style scoped>\n",
              "    .dataframe tbody tr th:only-of-type {\n",
              "        vertical-align: middle;\n",
              "    }\n",
              "\n",
              "    .dataframe tbody tr th {\n",
              "        vertical-align: top;\n",
              "    }\n",
              "\n",
              "    .dataframe thead th {\n",
              "        text-align: right;\n",
              "    }\n",
              "</style>\n",
              "<table border=\"1\" class=\"dataframe\">\n",
              "  <thead>\n",
              "    <tr style=\"text-align: right;\">\n",
              "      <th></th>\n",
              "      <th>edad_n</th>\n",
              "      <th>peso_yj_n</th>\n",
              "      <th>tallacm_n</th>\n",
              "      <th>imc_yj_n</th>\n",
              "      <th>hto_yj_n</th>\n",
              "      <th>leucostotales_yj_n</th>\n",
              "      <th>neutrofilos_yj_n</th>\n",
              "      <th>tp_yj_n</th>\n",
              "      <th>ttp_yj_n</th>\n",
              "      <th>glucosa_yj_n</th>\n",
              "      <th>...</th>\n",
              "      <th>qsanormal</th>\n",
              "      <th>sexo_binary</th>\n",
              "      <th>anestesia_2</th>\n",
              "      <th>anestesia_3</th>\n",
              "      <th>anestesia_4</th>\n",
              "      <th>anestesia_5</th>\n",
              "      <th>nitritos_binary</th>\n",
              "      <th>egoinfeccin_binary</th>\n",
              "      <th>egoanormal_binary</th>\n",
              "      <th>riesgo_quirurgico</th>\n",
              "    </tr>\n",
              "  </thead>\n",
              "  <tbody>\n",
              "    <tr>\n",
              "      <th>0</th>\n",
              "      <td>-0.302744</td>\n",
              "      <td>0.135252</td>\n",
              "      <td>0.293533</td>\n",
              "      <td>0.266600</td>\n",
              "      <td>-0.031104</td>\n",
              "      <td>0.309829</td>\n",
              "      <td>0.013707</td>\n",
              "      <td>0.385542</td>\n",
              "      <td>0.208330</td>\n",
              "      <td>0.573646</td>\n",
              "      <td>...</td>\n",
              "      <td>0</td>\n",
              "      <td>1</td>\n",
              "      <td>1</td>\n",
              "      <td>0</td>\n",
              "      <td>0</td>\n",
              "      <td>0</td>\n",
              "      <td>0</td>\n",
              "      <td>0</td>\n",
              "      <td>1</td>\n",
              "      <td>1</td>\n",
              "    </tr>\n",
              "    <tr>\n",
              "      <th>1</th>\n",
              "      <td>-0.969248</td>\n",
              "      <td>0.022076</td>\n",
              "      <td>-0.057890</td>\n",
              "      <td>0.266600</td>\n",
              "      <td>-0.071345</td>\n",
              "      <td>0.614379</td>\n",
              "      <td>0.637991</td>\n",
              "      <td>0.176659</td>\n",
              "      <td>0.174646</td>\n",
              "      <td>0.521957</td>\n",
              "      <td>...</td>\n",
              "      <td>1</td>\n",
              "      <td>0</td>\n",
              "      <td>0</td>\n",
              "      <td>0</td>\n",
              "      <td>0</td>\n",
              "      <td>0</td>\n",
              "      <td>0</td>\n",
              "      <td>0</td>\n",
              "      <td>0</td>\n",
              "      <td>2</td>\n",
              "    </tr>\n",
              "    <tr>\n",
              "      <th>2</th>\n",
              "      <td>0.190040</td>\n",
              "      <td>-0.009149</td>\n",
              "      <td>-0.057890</td>\n",
              "      <td>0.237438</td>\n",
              "      <td>-0.319087</td>\n",
              "      <td>0.020478</td>\n",
              "      <td>0.051430</td>\n",
              "      <td>0.163757</td>\n",
              "      <td>-0.087805</td>\n",
              "      <td>0.569326</td>\n",
              "      <td>...</td>\n",
              "      <td>1</td>\n",
              "      <td>0</td>\n",
              "      <td>0</td>\n",
              "      <td>0</td>\n",
              "      <td>0</td>\n",
              "      <td>0</td>\n",
              "      <td>0</td>\n",
              "      <td>0</td>\n",
              "      <td>0</td>\n",
              "      <td>3</td>\n",
              "    </tr>\n",
              "    <tr>\n",
              "      <th>3</th>\n",
              "      <td>-0.380527</td>\n",
              "      <td>0.148237</td>\n",
              "      <td>-0.163066</td>\n",
              "      <td>0.413111</td>\n",
              "      <td>-0.251789</td>\n",
              "      <td>0.171215</td>\n",
              "      <td>0.026994</td>\n",
              "      <td>0.237176</td>\n",
              "      <td>0.067576</td>\n",
              "      <td>0.494980</td>\n",
              "      <td>...</td>\n",
              "      <td>0</td>\n",
              "      <td>0</td>\n",
              "      <td>0</td>\n",
              "      <td>0</td>\n",
              "      <td>0</td>\n",
              "      <td>0</td>\n",
              "      <td>0</td>\n",
              "      <td>0</td>\n",
              "      <td>0</td>\n",
              "      <td>2</td>\n",
              "    </tr>\n",
              "    <tr>\n",
              "      <th>4</th>\n",
              "      <td>-0.075975</td>\n",
              "      <td>0.173521</td>\n",
              "      <td>-0.022805</td>\n",
              "      <td>0.394822</td>\n",
              "      <td>0.108825</td>\n",
              "      <td>0.160273</td>\n",
              "      <td>-0.262229</td>\n",
              "      <td>0.176659</td>\n",
              "      <td>0.081984</td>\n",
              "      <td>0.551329</td>\n",
              "      <td>...</td>\n",
              "      <td>0</td>\n",
              "      <td>1</td>\n",
              "      <td>0</td>\n",
              "      <td>0</td>\n",
              "      <td>0</td>\n",
              "      <td>0</td>\n",
              "      <td>0</td>\n",
              "      <td>0</td>\n",
              "      <td>0</td>\n",
              "      <td>2</td>\n",
              "    </tr>\n",
              "    <tr>\n",
              "      <th>5</th>\n",
              "      <td>-0.733886</td>\n",
              "      <td>0.094835</td>\n",
              "      <td>-0.057890</td>\n",
              "      <td>0.333700</td>\n",
              "      <td>-0.378056</td>\n",
              "      <td>0.769683</td>\n",
              "      <td>0.871388</td>\n",
              "      <td>0.441306</td>\n",
              "      <td>0.040554</td>\n",
              "      <td>0.644456</td>\n",
              "      <td>...</td>\n",
              "      <td>1</td>\n",
              "      <td>1</td>\n",
              "      <td>0</td>\n",
              "      <td>0</td>\n",
              "      <td>0</td>\n",
              "      <td>0</td>\n",
              "      <td>0</td>\n",
              "      <td>0</td>\n",
              "      <td>0</td>\n",
              "      <td>2</td>\n",
              "    </tr>\n",
              "    <tr>\n",
              "      <th>6</th>\n",
              "      <td>0.537220</td>\n",
              "      <td>0.135252</td>\n",
              "      <td>0.293533</td>\n",
              "      <td>0.266600</td>\n",
              "      <td>-0.509317</td>\n",
              "      <td>0.413679</td>\n",
              "      <td>0.159186</td>\n",
              "      <td>0.426109</td>\n",
              "      <td>-0.046407</td>\n",
              "      <td>0.598190</td>\n",
              "      <td>...</td>\n",
              "      <td>1</td>\n",
              "      <td>1</td>\n",
              "      <td>0</td>\n",
              "      <td>0</td>\n",
              "      <td>0</td>\n",
              "      <td>0</td>\n",
              "      <td>0</td>\n",
              "      <td>0</td>\n",
              "      <td>0</td>\n",
              "      <td>2</td>\n",
              "    </tr>\n",
              "    <tr>\n",
              "      <th>7</th>\n",
              "      <td>0.446171</td>\n",
              "      <td>0.155917</td>\n",
              "      <td>-0.512783</td>\n",
              "      <td>0.522450</td>\n",
              "      <td>-0.231825</td>\n",
              "      <td>-0.025226</td>\n",
              "      <td>-0.373878</td>\n",
              "      <td>0.340914</td>\n",
              "      <td>0.109591</td>\n",
              "      <td>0.551329</td>\n",
              "      <td>...</td>\n",
              "      <td>1</td>\n",
              "      <td>0</td>\n",
              "      <td>1</td>\n",
              "      <td>0</td>\n",
              "      <td>0</td>\n",
              "      <td>0</td>\n",
              "      <td>0</td>\n",
              "      <td>0</td>\n",
              "      <td>0</td>\n",
              "      <td>1</td>\n",
              "    </tr>\n",
              "    <tr>\n",
              "      <th>8</th>\n",
              "      <td>-0.075975</td>\n",
              "      <td>0.348392</td>\n",
              "      <td>-0.268124</td>\n",
              "      <td>0.613328</td>\n",
              "      <td>-0.364744</td>\n",
              "      <td>0.469807</td>\n",
              "      <td>0.386854</td>\n",
              "      <td>0.201643</td>\n",
              "      <td>-0.050048</td>\n",
              "      <td>0.425665</td>\n",
              "      <td>...</td>\n",
              "      <td>1</td>\n",
              "      <td>0</td>\n",
              "      <td>0</td>\n",
              "      <td>0</td>\n",
              "      <td>0</td>\n",
              "      <td>0</td>\n",
              "      <td>0</td>\n",
              "      <td>0</td>\n",
              "      <td>0</td>\n",
              "      <td>1</td>\n",
              "    </tr>\n",
              "    <tr>\n",
              "      <th>9</th>\n",
              "      <td>-0.302744</td>\n",
              "      <td>-0.009149</td>\n",
              "      <td>-0.057890</td>\n",
              "      <td>0.237438</td>\n",
              "      <td>0.153807</td>\n",
              "      <td>0.636566</td>\n",
              "      <td>0.732157</td>\n",
              "      <td>0.281218</td>\n",
              "      <td>0.008765</td>\n",
              "      <td>0.617010</td>\n",
              "      <td>...</td>\n",
              "      <td>1</td>\n",
              "      <td>0</td>\n",
              "      <td>0</td>\n",
              "      <td>0</td>\n",
              "      <td>0</td>\n",
              "      <td>0</td>\n",
              "      <td>0</td>\n",
              "      <td>0</td>\n",
              "      <td>0</td>\n",
              "      <td>2</td>\n",
              "    </tr>\n",
              "  </tbody>\n",
              "</table>\n",
              "<p>10 rows × 46 columns</p>\n",
              "</div>\n",
              "    <div class=\"colab-df-buttons\">\n",
              "\n",
              "  <div class=\"colab-df-container\">\n",
              "    <button class=\"colab-df-convert\" onclick=\"convertToInteractive('df-c56e0abf-7b1b-485a-9f5e-8bc1173a16cd')\"\n",
              "            title=\"Convert this dataframe to an interactive table.\"\n",
              "            style=\"display:none;\">\n",
              "\n",
              "  <svg xmlns=\"http://www.w3.org/2000/svg\" height=\"24px\" viewBox=\"0 -960 960 960\">\n",
              "    <path d=\"M120-120v-720h720v720H120Zm60-500h600v-160H180v160Zm220 220h160v-160H400v160Zm0 220h160v-160H400v160ZM180-400h160v-160H180v160Zm440 0h160v-160H620v160ZM180-180h160v-160H180v160Zm440 0h160v-160H620v160Z\"/>\n",
              "  </svg>\n",
              "    </button>\n",
              "\n",
              "  <style>\n",
              "    .colab-df-container {\n",
              "      display:flex;\n",
              "      gap: 12px;\n",
              "    }\n",
              "\n",
              "    .colab-df-convert {\n",
              "      background-color: #E8F0FE;\n",
              "      border: none;\n",
              "      border-radius: 50%;\n",
              "      cursor: pointer;\n",
              "      display: none;\n",
              "      fill: #1967D2;\n",
              "      height: 32px;\n",
              "      padding: 0 0 0 0;\n",
              "      width: 32px;\n",
              "    }\n",
              "\n",
              "    .colab-df-convert:hover {\n",
              "      background-color: #E2EBFA;\n",
              "      box-shadow: 0px 1px 2px rgba(60, 64, 67, 0.3), 0px 1px 3px 1px rgba(60, 64, 67, 0.15);\n",
              "      fill: #174EA6;\n",
              "    }\n",
              "\n",
              "    .colab-df-buttons div {\n",
              "      margin-bottom: 4px;\n",
              "    }\n",
              "\n",
              "    [theme=dark] .colab-df-convert {\n",
              "      background-color: #3B4455;\n",
              "      fill: #D2E3FC;\n",
              "    }\n",
              "\n",
              "    [theme=dark] .colab-df-convert:hover {\n",
              "      background-color: #434B5C;\n",
              "      box-shadow: 0px 1px 3px 1px rgba(0, 0, 0, 0.15);\n",
              "      filter: drop-shadow(0px 1px 2px rgba(0, 0, 0, 0.3));\n",
              "      fill: #FFFFFF;\n",
              "    }\n",
              "  </style>\n",
              "\n",
              "    <script>\n",
              "      const buttonEl =\n",
              "        document.querySelector('#df-c56e0abf-7b1b-485a-9f5e-8bc1173a16cd button.colab-df-convert');\n",
              "      buttonEl.style.display =\n",
              "        google.colab.kernel.accessAllowed ? 'block' : 'none';\n",
              "\n",
              "      async function convertToInteractive(key) {\n",
              "        const element = document.querySelector('#df-c56e0abf-7b1b-485a-9f5e-8bc1173a16cd');\n",
              "        const dataTable =\n",
              "          await google.colab.kernel.invokeFunction('convertToInteractive',\n",
              "                                                    [key], {});\n",
              "        if (!dataTable) return;\n",
              "\n",
              "        const docLinkHtml = 'Like what you see? Visit the ' +\n",
              "          '<a target=\"_blank\" href=https://colab.research.google.com/notebooks/data_table.ipynb>data table notebook</a>'\n",
              "          + ' to learn more about interactive tables.';\n",
              "        element.innerHTML = '';\n",
              "        dataTable['output_type'] = 'display_data';\n",
              "        await google.colab.output.renderOutput(dataTable, element);\n",
              "        const docLink = document.createElement('div');\n",
              "        docLink.innerHTML = docLinkHtml;\n",
              "        element.appendChild(docLink);\n",
              "      }\n",
              "    </script>\n",
              "  </div>\n",
              "\n",
              "\n",
              "<div id=\"df-31c2cdd1-ae27-4178-a105-3663871a1520\">\n",
              "  <button class=\"colab-df-quickchart\" onclick=\"quickchart('df-31c2cdd1-ae27-4178-a105-3663871a1520')\"\n",
              "            title=\"Suggest charts\"\n",
              "            style=\"display:none;\">\n",
              "\n",
              "<svg xmlns=\"http://www.w3.org/2000/svg\" height=\"24px\"viewBox=\"0 0 24 24\"\n",
              "     width=\"24px\">\n",
              "    <g>\n",
              "        <path d=\"M19 3H5c-1.1 0-2 .9-2 2v14c0 1.1.9 2 2 2h14c1.1 0 2-.9 2-2V5c0-1.1-.9-2-2-2zM9 17H7v-7h2v7zm4 0h-2V7h2v10zm4 0h-2v-4h2v4z\"/>\n",
              "    </g>\n",
              "</svg>\n",
              "  </button>\n",
              "\n",
              "<style>\n",
              "  .colab-df-quickchart {\n",
              "      --bg-color: #E8F0FE;\n",
              "      --fill-color: #1967D2;\n",
              "      --hover-bg-color: #E2EBFA;\n",
              "      --hover-fill-color: #174EA6;\n",
              "      --disabled-fill-color: #AAA;\n",
              "      --disabled-bg-color: #DDD;\n",
              "  }\n",
              "\n",
              "  [theme=dark] .colab-df-quickchart {\n",
              "      --bg-color: #3B4455;\n",
              "      --fill-color: #D2E3FC;\n",
              "      --hover-bg-color: #434B5C;\n",
              "      --hover-fill-color: #FFFFFF;\n",
              "      --disabled-bg-color: #3B4455;\n",
              "      --disabled-fill-color: #666;\n",
              "  }\n",
              "\n",
              "  .colab-df-quickchart {\n",
              "    background-color: var(--bg-color);\n",
              "    border: none;\n",
              "    border-radius: 50%;\n",
              "    cursor: pointer;\n",
              "    display: none;\n",
              "    fill: var(--fill-color);\n",
              "    height: 32px;\n",
              "    padding: 0;\n",
              "    width: 32px;\n",
              "  }\n",
              "\n",
              "  .colab-df-quickchart:hover {\n",
              "    background-color: var(--hover-bg-color);\n",
              "    box-shadow: 0 1px 2px rgba(60, 64, 67, 0.3), 0 1px 3px 1px rgba(60, 64, 67, 0.15);\n",
              "    fill: var(--button-hover-fill-color);\n",
              "  }\n",
              "\n",
              "  .colab-df-quickchart-complete:disabled,\n",
              "  .colab-df-quickchart-complete:disabled:hover {\n",
              "    background-color: var(--disabled-bg-color);\n",
              "    fill: var(--disabled-fill-color);\n",
              "    box-shadow: none;\n",
              "  }\n",
              "\n",
              "  .colab-df-spinner {\n",
              "    border: 2px solid var(--fill-color);\n",
              "    border-color: transparent;\n",
              "    border-bottom-color: var(--fill-color);\n",
              "    animation:\n",
              "      spin 1s steps(1) infinite;\n",
              "  }\n",
              "\n",
              "  @keyframes spin {\n",
              "    0% {\n",
              "      border-color: transparent;\n",
              "      border-bottom-color: var(--fill-color);\n",
              "      border-left-color: var(--fill-color);\n",
              "    }\n",
              "    20% {\n",
              "      border-color: transparent;\n",
              "      border-left-color: var(--fill-color);\n",
              "      border-top-color: var(--fill-color);\n",
              "    }\n",
              "    30% {\n",
              "      border-color: transparent;\n",
              "      border-left-color: var(--fill-color);\n",
              "      border-top-color: var(--fill-color);\n",
              "      border-right-color: var(--fill-color);\n",
              "    }\n",
              "    40% {\n",
              "      border-color: transparent;\n",
              "      border-right-color: var(--fill-color);\n",
              "      border-top-color: var(--fill-color);\n",
              "    }\n",
              "    60% {\n",
              "      border-color: transparent;\n",
              "      border-right-color: var(--fill-color);\n",
              "    }\n",
              "    80% {\n",
              "      border-color: transparent;\n",
              "      border-right-color: var(--fill-color);\n",
              "      border-bottom-color: var(--fill-color);\n",
              "    }\n",
              "    90% {\n",
              "      border-color: transparent;\n",
              "      border-bottom-color: var(--fill-color);\n",
              "    }\n",
              "  }\n",
              "</style>\n",
              "\n",
              "  <script>\n",
              "    async function quickchart(key) {\n",
              "      const quickchartButtonEl =\n",
              "        document.querySelector('#' + key + ' button');\n",
              "      quickchartButtonEl.disabled = true;  // To prevent multiple clicks.\n",
              "      quickchartButtonEl.classList.add('colab-df-spinner');\n",
              "      try {\n",
              "        const charts = await google.colab.kernel.invokeFunction(\n",
              "            'suggestCharts', [key], {});\n",
              "      } catch (error) {\n",
              "        console.error('Error during call to suggestCharts:', error);\n",
              "      }\n",
              "      quickchartButtonEl.classList.remove('colab-df-spinner');\n",
              "      quickchartButtonEl.classList.add('colab-df-quickchart-complete');\n",
              "    }\n",
              "    (() => {\n",
              "      let quickchartButtonEl =\n",
              "        document.querySelector('#df-31c2cdd1-ae27-4178-a105-3663871a1520 button');\n",
              "      quickchartButtonEl.style.display =\n",
              "        google.colab.kernel.accessAllowed ? 'block' : 'none';\n",
              "    })();\n",
              "  </script>\n",
              "</div>\n",
              "\n",
              "    </div>\n",
              "  </div>\n"
            ],
            "application/vnd.google.colaboratory.intrinsic+json": {
              "type": "dataframe",
              "variable_name": "df"
            }
          },
          "metadata": {},
          "execution_count": 2
        }
      ]
    },
    {
      "cell_type": "code",
      "source": [
        "df.shape[0] # CANTIDAD DE RENGLONES"
      ],
      "metadata": {
        "colab": {
          "base_uri": "https://localhost:8080/"
        },
        "id": "ZkqayqRKi9E4",
        "outputId": "693f6253-cda0-4d91-d980-e6b2e95b9259"
      },
      "execution_count": null,
      "outputs": [
        {
          "output_type": "execute_result",
          "data": {
            "text/plain": [
              "2115"
            ]
          },
          "metadata": {},
          "execution_count": 3
        }
      ]
    },
    {
      "cell_type": "code",
      "source": [
        "df.describe().T # Estadísticas descriptivas"
      ],
      "metadata": {
        "colab": {
          "base_uri": "https://localhost:8080/",
          "height": 1000
        },
        "id": "7PWm01IJb8IQ",
        "outputId": "d39e18ba-efc3-4c4b-97e9-94e34afc4072"
      },
      "execution_count": null,
      "outputs": [
        {
          "output_type": "execute_result",
          "data": {
            "text/plain": [
              "                               count      mean       std  min       25%  \\\n",
              "edad_n                        2115.0 -0.127024  0.457861 -1.0 -0.486215   \n",
              "peso_yj_n                     2115.0  0.133587  0.186980 -1.0  0.021311   \n",
              "tallacm_n                     2115.0  0.012616  0.305275 -1.0 -0.198099   \n",
              "imc_yj_n                      2115.0  0.348267  0.156131 -1.0  0.260734   \n",
              "hto_yj_n                      2115.0 -0.177524  0.294491 -1.0 -0.355771   \n",
              "leucostotales_yj_n            2115.0  0.309644  0.221456 -1.0  0.160273   \n",
              "neutrofilos_yj_n              2115.0  0.169872  0.315254 -1.0 -0.043523   \n",
              "tp_yj_n                       2115.0  0.258404  0.158322 -1.0  0.176659   \n",
              "ttp_yj_n                      2115.0  0.000896  0.112582 -1.0 -0.050048   \n",
              "glucosa_yj_n                  2115.0  0.574889  0.110525 -1.0  0.516756   \n",
              "bun_yj_n                      2115.0  0.310694  0.196060 -1.0  0.193666   \n",
              "creatinina_yj_n               2115.0  0.287207  0.245156 -1.0  0.140814   \n",
              "sodio_yj_n                    2115.0 -0.290789  0.144310 -1.0 -0.325980   \n",
              "potasio_yj_n                  2115.0 -0.115999  0.192907 -1.0 -0.197663   \n",
              "Diabetes Mellitus (DM)        2115.0  0.186288  0.389431  0.0  0.000000   \n",
              "Hipertensión (HTA)            2115.0  0.238771  0.426433  0.0  0.000000   \n",
              "Ante_IAM                      2115.0  0.014657  0.120205  0.0  0.000000   \n",
              "ante_arritmia                 2115.0  0.008511  0.091881  0.0  0.000000   \n",
              "otrosantecedentesimportantes  2115.0  0.443499  0.496915  0.0  0.000000   \n",
              "cirugaprevia                  2115.0  0.230733  0.421401  0.0  0.000000   \n",
              "alcoholismo                   2115.0  0.028369  0.166063  0.0  0.000000   \n",
              "tabaquismo                    2115.0  0.063357  0.243662  0.0  0.000000   \n",
              "otros                         2115.0  0.197636  0.398310  0.0  0.000000   \n",
              "valoracion_cardiovascular     2115.0  0.405674  0.491138  0.0  0.000000   \n",
              "primeraqx                     2115.0  0.839716  0.366956  0.0  1.000000   \n",
              "fr_anormal                    2115.0  0.479433  0.499695  0.0  0.000000   \n",
              "plaquetaanormal               2115.0  0.095981  0.294635  0.0  0.000000   \n",
              "tpanormal                     2115.0  0.175887  0.380814  0.0  0.000000   \n",
              "ttpanormal                    2115.0  0.018913  0.136248  0.0  0.000000   \n",
              "glucosaanormal                2115.0  0.394326  0.488821  0.0  0.000000   \n",
              "creatanormal                  2115.0  0.361702  0.480607  0.0  0.000000   \n",
              "esanormales                   2115.0  0.234515  0.423796  0.0  0.000000   \n",
              "repeticn_examen               2115.0  0.101655  0.302265  0.0  0.000000   \n",
              "obesidad                      2115.0  0.266667  0.442321  0.0  0.000000   \n",
              "hiperglucemia                 2115.0  0.136643  0.343551  0.0  0.000000   \n",
              "bhcanormal                    2115.0  0.513948  0.499924  0.0  0.000000   \n",
              "qsanormal                     2115.0  0.600473  0.489917  0.0  0.000000   \n",
              "sexo_binary                   2115.0  0.511584  0.499984  0.0  0.000000   \n",
              "anestesia_2                   2115.0  0.268085  0.443067  0.0  0.000000   \n",
              "anestesia_3                   2115.0  0.089835  0.286012  0.0  0.000000   \n",
              "anestesia_4                   2115.0  0.002837  0.053199  0.0  0.000000   \n",
              "anestesia_5                   2115.0  0.042080  0.200820  0.0  0.000000   \n",
              "nitritos_binary               2115.0  0.035461  0.184986  0.0  0.000000   \n",
              "egoinfeccin_binary            2115.0  0.000000  0.000000  0.0  0.000000   \n",
              "egoanormal_binary             2115.0  0.072813  0.259891  0.0  0.000000   \n",
              "riesgo_quirurgico             2115.0  1.638771  0.534532  1.0  1.000000   \n",
              "\n",
              "                                   50%       75%  max  \n",
              "edad_n                       -0.100728  0.237284  1.0  \n",
              "peso_yj_n                     0.135252  0.244369  1.0  \n",
              "tallacm_n                     0.012130  0.258334  1.0  \n",
              "imc_yj_n                      0.343994  0.429979  1.0  \n",
              "hto_yj_n                     -0.175204  0.022230  1.0  \n",
              "leucostotales_yj_n            0.301846  0.442836  1.0  \n",
              "neutrofilos_yj_n              0.141102  0.363543  1.0  \n",
              "tp_yj_n                       0.259652  0.340914  1.0  \n",
              "ttp_yj_n                      0.005477  0.058728  1.0  \n",
              "glucosa_yj_n                  0.560475  0.617010  1.0  \n",
              "bun_yj_n                      0.317654  0.419047  1.0  \n",
              "creatinina_yj_n               0.284783  0.430563  1.0  \n",
              "sodio_yj_n                   -0.301316 -0.219750  1.0  \n",
              "potasio_yj_n                 -0.100422 -0.023510  1.0  \n",
              "Diabetes Mellitus (DM)        0.000000  0.000000  1.0  \n",
              "Hipertensión (HTA)            0.000000  0.000000  1.0  \n",
              "Ante_IAM                      0.000000  0.000000  1.0  \n",
              "ante_arritmia                 0.000000  0.000000  1.0  \n",
              "otrosantecedentesimportantes  0.000000  1.000000  1.0  \n",
              "cirugaprevia                  0.000000  0.000000  1.0  \n",
              "alcoholismo                   0.000000  0.000000  1.0  \n",
              "tabaquismo                    0.000000  0.000000  1.0  \n",
              "otros                         0.000000  0.000000  1.0  \n",
              "valoracion_cardiovascular     0.000000  1.000000  1.0  \n",
              "primeraqx                     1.000000  1.000000  1.0  \n",
              "fr_anormal                    0.000000  1.000000  1.0  \n",
              "plaquetaanormal               0.000000  0.000000  1.0  \n",
              "tpanormal                     0.000000  0.000000  1.0  \n",
              "ttpanormal                    0.000000  0.000000  1.0  \n",
              "glucosaanormal                0.000000  1.000000  1.0  \n",
              "creatanormal                  0.000000  1.000000  1.0  \n",
              "esanormales                   0.000000  0.000000  1.0  \n",
              "repeticn_examen               0.000000  0.000000  1.0  \n",
              "obesidad                      0.000000  1.000000  1.0  \n",
              "hiperglucemia                 0.000000  0.000000  1.0  \n",
              "bhcanormal                    1.000000  1.000000  1.0  \n",
              "qsanormal                     1.000000  1.000000  1.0  \n",
              "sexo_binary                   1.000000  1.000000  1.0  \n",
              "anestesia_2                   0.000000  1.000000  1.0  \n",
              "anestesia_3                   0.000000  0.000000  1.0  \n",
              "anestesia_4                   0.000000  0.000000  1.0  \n",
              "anestesia_5                   0.000000  0.000000  1.0  \n",
              "nitritos_binary               0.000000  0.000000  1.0  \n",
              "egoinfeccin_binary            0.000000  0.000000  0.0  \n",
              "egoanormal_binary             0.000000  0.000000  1.0  \n",
              "riesgo_quirurgico             2.000000  2.000000  3.0  "
            ],
            "text/html": [
              "\n",
              "  <div id=\"df-35c9aa67-358d-4dc8-97bd-004c46c2ef34\" class=\"colab-df-container\">\n",
              "    <div>\n",
              "<style scoped>\n",
              "    .dataframe tbody tr th:only-of-type {\n",
              "        vertical-align: middle;\n",
              "    }\n",
              "\n",
              "    .dataframe tbody tr th {\n",
              "        vertical-align: top;\n",
              "    }\n",
              "\n",
              "    .dataframe thead th {\n",
              "        text-align: right;\n",
              "    }\n",
              "</style>\n",
              "<table border=\"1\" class=\"dataframe\">\n",
              "  <thead>\n",
              "    <tr style=\"text-align: right;\">\n",
              "      <th></th>\n",
              "      <th>count</th>\n",
              "      <th>mean</th>\n",
              "      <th>std</th>\n",
              "      <th>min</th>\n",
              "      <th>25%</th>\n",
              "      <th>50%</th>\n",
              "      <th>75%</th>\n",
              "      <th>max</th>\n",
              "    </tr>\n",
              "  </thead>\n",
              "  <tbody>\n",
              "    <tr>\n",
              "      <th>edad_n</th>\n",
              "      <td>2115.0</td>\n",
              "      <td>-0.127024</td>\n",
              "      <td>0.457861</td>\n",
              "      <td>-1.0</td>\n",
              "      <td>-0.486215</td>\n",
              "      <td>-0.100728</td>\n",
              "      <td>0.237284</td>\n",
              "      <td>1.0</td>\n",
              "    </tr>\n",
              "    <tr>\n",
              "      <th>peso_yj_n</th>\n",
              "      <td>2115.0</td>\n",
              "      <td>0.133587</td>\n",
              "      <td>0.186980</td>\n",
              "      <td>-1.0</td>\n",
              "      <td>0.021311</td>\n",
              "      <td>0.135252</td>\n",
              "      <td>0.244369</td>\n",
              "      <td>1.0</td>\n",
              "    </tr>\n",
              "    <tr>\n",
              "      <th>tallacm_n</th>\n",
              "      <td>2115.0</td>\n",
              "      <td>0.012616</td>\n",
              "      <td>0.305275</td>\n",
              "      <td>-1.0</td>\n",
              "      <td>-0.198099</td>\n",
              "      <td>0.012130</td>\n",
              "      <td>0.258334</td>\n",
              "      <td>1.0</td>\n",
              "    </tr>\n",
              "    <tr>\n",
              "      <th>imc_yj_n</th>\n",
              "      <td>2115.0</td>\n",
              "      <td>0.348267</td>\n",
              "      <td>0.156131</td>\n",
              "      <td>-1.0</td>\n",
              "      <td>0.260734</td>\n",
              "      <td>0.343994</td>\n",
              "      <td>0.429979</td>\n",
              "      <td>1.0</td>\n",
              "    </tr>\n",
              "    <tr>\n",
              "      <th>hto_yj_n</th>\n",
              "      <td>2115.0</td>\n",
              "      <td>-0.177524</td>\n",
              "      <td>0.294491</td>\n",
              "      <td>-1.0</td>\n",
              "      <td>-0.355771</td>\n",
              "      <td>-0.175204</td>\n",
              "      <td>0.022230</td>\n",
              "      <td>1.0</td>\n",
              "    </tr>\n",
              "    <tr>\n",
              "      <th>leucostotales_yj_n</th>\n",
              "      <td>2115.0</td>\n",
              "      <td>0.309644</td>\n",
              "      <td>0.221456</td>\n",
              "      <td>-1.0</td>\n",
              "      <td>0.160273</td>\n",
              "      <td>0.301846</td>\n",
              "      <td>0.442836</td>\n",
              "      <td>1.0</td>\n",
              "    </tr>\n",
              "    <tr>\n",
              "      <th>neutrofilos_yj_n</th>\n",
              "      <td>2115.0</td>\n",
              "      <td>0.169872</td>\n",
              "      <td>0.315254</td>\n",
              "      <td>-1.0</td>\n",
              "      <td>-0.043523</td>\n",
              "      <td>0.141102</td>\n",
              "      <td>0.363543</td>\n",
              "      <td>1.0</td>\n",
              "    </tr>\n",
              "    <tr>\n",
              "      <th>tp_yj_n</th>\n",
              "      <td>2115.0</td>\n",
              "      <td>0.258404</td>\n",
              "      <td>0.158322</td>\n",
              "      <td>-1.0</td>\n",
              "      <td>0.176659</td>\n",
              "      <td>0.259652</td>\n",
              "      <td>0.340914</td>\n",
              "      <td>1.0</td>\n",
              "    </tr>\n",
              "    <tr>\n",
              "      <th>ttp_yj_n</th>\n",
              "      <td>2115.0</td>\n",
              "      <td>0.000896</td>\n",
              "      <td>0.112582</td>\n",
              "      <td>-1.0</td>\n",
              "      <td>-0.050048</td>\n",
              "      <td>0.005477</td>\n",
              "      <td>0.058728</td>\n",
              "      <td>1.0</td>\n",
              "    </tr>\n",
              "    <tr>\n",
              "      <th>glucosa_yj_n</th>\n",
              "      <td>2115.0</td>\n",
              "      <td>0.574889</td>\n",
              "      <td>0.110525</td>\n",
              "      <td>-1.0</td>\n",
              "      <td>0.516756</td>\n",
              "      <td>0.560475</td>\n",
              "      <td>0.617010</td>\n",
              "      <td>1.0</td>\n",
              "    </tr>\n",
              "    <tr>\n",
              "      <th>bun_yj_n</th>\n",
              "      <td>2115.0</td>\n",
              "      <td>0.310694</td>\n",
              "      <td>0.196060</td>\n",
              "      <td>-1.0</td>\n",
              "      <td>0.193666</td>\n",
              "      <td>0.317654</td>\n",
              "      <td>0.419047</td>\n",
              "      <td>1.0</td>\n",
              "    </tr>\n",
              "    <tr>\n",
              "      <th>creatinina_yj_n</th>\n",
              "      <td>2115.0</td>\n",
              "      <td>0.287207</td>\n",
              "      <td>0.245156</td>\n",
              "      <td>-1.0</td>\n",
              "      <td>0.140814</td>\n",
              "      <td>0.284783</td>\n",
              "      <td>0.430563</td>\n",
              "      <td>1.0</td>\n",
              "    </tr>\n",
              "    <tr>\n",
              "      <th>sodio_yj_n</th>\n",
              "      <td>2115.0</td>\n",
              "      <td>-0.290789</td>\n",
              "      <td>0.144310</td>\n",
              "      <td>-1.0</td>\n",
              "      <td>-0.325980</td>\n",
              "      <td>-0.301316</td>\n",
              "      <td>-0.219750</td>\n",
              "      <td>1.0</td>\n",
              "    </tr>\n",
              "    <tr>\n",
              "      <th>potasio_yj_n</th>\n",
              "      <td>2115.0</td>\n",
              "      <td>-0.115999</td>\n",
              "      <td>0.192907</td>\n",
              "      <td>-1.0</td>\n",
              "      <td>-0.197663</td>\n",
              "      <td>-0.100422</td>\n",
              "      <td>-0.023510</td>\n",
              "      <td>1.0</td>\n",
              "    </tr>\n",
              "    <tr>\n",
              "      <th>Diabetes Mellitus (DM)</th>\n",
              "      <td>2115.0</td>\n",
              "      <td>0.186288</td>\n",
              "      <td>0.389431</td>\n",
              "      <td>0.0</td>\n",
              "      <td>0.000000</td>\n",
              "      <td>0.000000</td>\n",
              "      <td>0.000000</td>\n",
              "      <td>1.0</td>\n",
              "    </tr>\n",
              "    <tr>\n",
              "      <th>Hipertensión (HTA)</th>\n",
              "      <td>2115.0</td>\n",
              "      <td>0.238771</td>\n",
              "      <td>0.426433</td>\n",
              "      <td>0.0</td>\n",
              "      <td>0.000000</td>\n",
              "      <td>0.000000</td>\n",
              "      <td>0.000000</td>\n",
              "      <td>1.0</td>\n",
              "    </tr>\n",
              "    <tr>\n",
              "      <th>Ante_IAM</th>\n",
              "      <td>2115.0</td>\n",
              "      <td>0.014657</td>\n",
              "      <td>0.120205</td>\n",
              "      <td>0.0</td>\n",
              "      <td>0.000000</td>\n",
              "      <td>0.000000</td>\n",
              "      <td>0.000000</td>\n",
              "      <td>1.0</td>\n",
              "    </tr>\n",
              "    <tr>\n",
              "      <th>ante_arritmia</th>\n",
              "      <td>2115.0</td>\n",
              "      <td>0.008511</td>\n",
              "      <td>0.091881</td>\n",
              "      <td>0.0</td>\n",
              "      <td>0.000000</td>\n",
              "      <td>0.000000</td>\n",
              "      <td>0.000000</td>\n",
              "      <td>1.0</td>\n",
              "    </tr>\n",
              "    <tr>\n",
              "      <th>otrosantecedentesimportantes</th>\n",
              "      <td>2115.0</td>\n",
              "      <td>0.443499</td>\n",
              "      <td>0.496915</td>\n",
              "      <td>0.0</td>\n",
              "      <td>0.000000</td>\n",
              "      <td>0.000000</td>\n",
              "      <td>1.000000</td>\n",
              "      <td>1.0</td>\n",
              "    </tr>\n",
              "    <tr>\n",
              "      <th>cirugaprevia</th>\n",
              "      <td>2115.0</td>\n",
              "      <td>0.230733</td>\n",
              "      <td>0.421401</td>\n",
              "      <td>0.0</td>\n",
              "      <td>0.000000</td>\n",
              "      <td>0.000000</td>\n",
              "      <td>0.000000</td>\n",
              "      <td>1.0</td>\n",
              "    </tr>\n",
              "    <tr>\n",
              "      <th>alcoholismo</th>\n",
              "      <td>2115.0</td>\n",
              "      <td>0.028369</td>\n",
              "      <td>0.166063</td>\n",
              "      <td>0.0</td>\n",
              "      <td>0.000000</td>\n",
              "      <td>0.000000</td>\n",
              "      <td>0.000000</td>\n",
              "      <td>1.0</td>\n",
              "    </tr>\n",
              "    <tr>\n",
              "      <th>tabaquismo</th>\n",
              "      <td>2115.0</td>\n",
              "      <td>0.063357</td>\n",
              "      <td>0.243662</td>\n",
              "      <td>0.0</td>\n",
              "      <td>0.000000</td>\n",
              "      <td>0.000000</td>\n",
              "      <td>0.000000</td>\n",
              "      <td>1.0</td>\n",
              "    </tr>\n",
              "    <tr>\n",
              "      <th>otros</th>\n",
              "      <td>2115.0</td>\n",
              "      <td>0.197636</td>\n",
              "      <td>0.398310</td>\n",
              "      <td>0.0</td>\n",
              "      <td>0.000000</td>\n",
              "      <td>0.000000</td>\n",
              "      <td>0.000000</td>\n",
              "      <td>1.0</td>\n",
              "    </tr>\n",
              "    <tr>\n",
              "      <th>valoracion_cardiovascular</th>\n",
              "      <td>2115.0</td>\n",
              "      <td>0.405674</td>\n",
              "      <td>0.491138</td>\n",
              "      <td>0.0</td>\n",
              "      <td>0.000000</td>\n",
              "      <td>0.000000</td>\n",
              "      <td>1.000000</td>\n",
              "      <td>1.0</td>\n",
              "    </tr>\n",
              "    <tr>\n",
              "      <th>primeraqx</th>\n",
              "      <td>2115.0</td>\n",
              "      <td>0.839716</td>\n",
              "      <td>0.366956</td>\n",
              "      <td>0.0</td>\n",
              "      <td>1.000000</td>\n",
              "      <td>1.000000</td>\n",
              "      <td>1.000000</td>\n",
              "      <td>1.0</td>\n",
              "    </tr>\n",
              "    <tr>\n",
              "      <th>fr_anormal</th>\n",
              "      <td>2115.0</td>\n",
              "      <td>0.479433</td>\n",
              "      <td>0.499695</td>\n",
              "      <td>0.0</td>\n",
              "      <td>0.000000</td>\n",
              "      <td>0.000000</td>\n",
              "      <td>1.000000</td>\n",
              "      <td>1.0</td>\n",
              "    </tr>\n",
              "    <tr>\n",
              "      <th>plaquetaanormal</th>\n",
              "      <td>2115.0</td>\n",
              "      <td>0.095981</td>\n",
              "      <td>0.294635</td>\n",
              "      <td>0.0</td>\n",
              "      <td>0.000000</td>\n",
              "      <td>0.000000</td>\n",
              "      <td>0.000000</td>\n",
              "      <td>1.0</td>\n",
              "    </tr>\n",
              "    <tr>\n",
              "      <th>tpanormal</th>\n",
              "      <td>2115.0</td>\n",
              "      <td>0.175887</td>\n",
              "      <td>0.380814</td>\n",
              "      <td>0.0</td>\n",
              "      <td>0.000000</td>\n",
              "      <td>0.000000</td>\n",
              "      <td>0.000000</td>\n",
              "      <td>1.0</td>\n",
              "    </tr>\n",
              "    <tr>\n",
              "      <th>ttpanormal</th>\n",
              "      <td>2115.0</td>\n",
              "      <td>0.018913</td>\n",
              "      <td>0.136248</td>\n",
              "      <td>0.0</td>\n",
              "      <td>0.000000</td>\n",
              "      <td>0.000000</td>\n",
              "      <td>0.000000</td>\n",
              "      <td>1.0</td>\n",
              "    </tr>\n",
              "    <tr>\n",
              "      <th>glucosaanormal</th>\n",
              "      <td>2115.0</td>\n",
              "      <td>0.394326</td>\n",
              "      <td>0.488821</td>\n",
              "      <td>0.0</td>\n",
              "      <td>0.000000</td>\n",
              "      <td>0.000000</td>\n",
              "      <td>1.000000</td>\n",
              "      <td>1.0</td>\n",
              "    </tr>\n",
              "    <tr>\n",
              "      <th>creatanormal</th>\n",
              "      <td>2115.0</td>\n",
              "      <td>0.361702</td>\n",
              "      <td>0.480607</td>\n",
              "      <td>0.0</td>\n",
              "      <td>0.000000</td>\n",
              "      <td>0.000000</td>\n",
              "      <td>1.000000</td>\n",
              "      <td>1.0</td>\n",
              "    </tr>\n",
              "    <tr>\n",
              "      <th>esanormales</th>\n",
              "      <td>2115.0</td>\n",
              "      <td>0.234515</td>\n",
              "      <td>0.423796</td>\n",
              "      <td>0.0</td>\n",
              "      <td>0.000000</td>\n",
              "      <td>0.000000</td>\n",
              "      <td>0.000000</td>\n",
              "      <td>1.0</td>\n",
              "    </tr>\n",
              "    <tr>\n",
              "      <th>repeticn_examen</th>\n",
              "      <td>2115.0</td>\n",
              "      <td>0.101655</td>\n",
              "      <td>0.302265</td>\n",
              "      <td>0.0</td>\n",
              "      <td>0.000000</td>\n",
              "      <td>0.000000</td>\n",
              "      <td>0.000000</td>\n",
              "      <td>1.0</td>\n",
              "    </tr>\n",
              "    <tr>\n",
              "      <th>obesidad</th>\n",
              "      <td>2115.0</td>\n",
              "      <td>0.266667</td>\n",
              "      <td>0.442321</td>\n",
              "      <td>0.0</td>\n",
              "      <td>0.000000</td>\n",
              "      <td>0.000000</td>\n",
              "      <td>1.000000</td>\n",
              "      <td>1.0</td>\n",
              "    </tr>\n",
              "    <tr>\n",
              "      <th>hiperglucemia</th>\n",
              "      <td>2115.0</td>\n",
              "      <td>0.136643</td>\n",
              "      <td>0.343551</td>\n",
              "      <td>0.0</td>\n",
              "      <td>0.000000</td>\n",
              "      <td>0.000000</td>\n",
              "      <td>0.000000</td>\n",
              "      <td>1.0</td>\n",
              "    </tr>\n",
              "    <tr>\n",
              "      <th>bhcanormal</th>\n",
              "      <td>2115.0</td>\n",
              "      <td>0.513948</td>\n",
              "      <td>0.499924</td>\n",
              "      <td>0.0</td>\n",
              "      <td>0.000000</td>\n",
              "      <td>1.000000</td>\n",
              "      <td>1.000000</td>\n",
              "      <td>1.0</td>\n",
              "    </tr>\n",
              "    <tr>\n",
              "      <th>qsanormal</th>\n",
              "      <td>2115.0</td>\n",
              "      <td>0.600473</td>\n",
              "      <td>0.489917</td>\n",
              "      <td>0.0</td>\n",
              "      <td>0.000000</td>\n",
              "      <td>1.000000</td>\n",
              "      <td>1.000000</td>\n",
              "      <td>1.0</td>\n",
              "    </tr>\n",
              "    <tr>\n",
              "      <th>sexo_binary</th>\n",
              "      <td>2115.0</td>\n",
              "      <td>0.511584</td>\n",
              "      <td>0.499984</td>\n",
              "      <td>0.0</td>\n",
              "      <td>0.000000</td>\n",
              "      <td>1.000000</td>\n",
              "      <td>1.000000</td>\n",
              "      <td>1.0</td>\n",
              "    </tr>\n",
              "    <tr>\n",
              "      <th>anestesia_2</th>\n",
              "      <td>2115.0</td>\n",
              "      <td>0.268085</td>\n",
              "      <td>0.443067</td>\n",
              "      <td>0.0</td>\n",
              "      <td>0.000000</td>\n",
              "      <td>0.000000</td>\n",
              "      <td>1.000000</td>\n",
              "      <td>1.0</td>\n",
              "    </tr>\n",
              "    <tr>\n",
              "      <th>anestesia_3</th>\n",
              "      <td>2115.0</td>\n",
              "      <td>0.089835</td>\n",
              "      <td>0.286012</td>\n",
              "      <td>0.0</td>\n",
              "      <td>0.000000</td>\n",
              "      <td>0.000000</td>\n",
              "      <td>0.000000</td>\n",
              "      <td>1.0</td>\n",
              "    </tr>\n",
              "    <tr>\n",
              "      <th>anestesia_4</th>\n",
              "      <td>2115.0</td>\n",
              "      <td>0.002837</td>\n",
              "      <td>0.053199</td>\n",
              "      <td>0.0</td>\n",
              "      <td>0.000000</td>\n",
              "      <td>0.000000</td>\n",
              "      <td>0.000000</td>\n",
              "      <td>1.0</td>\n",
              "    </tr>\n",
              "    <tr>\n",
              "      <th>anestesia_5</th>\n",
              "      <td>2115.0</td>\n",
              "      <td>0.042080</td>\n",
              "      <td>0.200820</td>\n",
              "      <td>0.0</td>\n",
              "      <td>0.000000</td>\n",
              "      <td>0.000000</td>\n",
              "      <td>0.000000</td>\n",
              "      <td>1.0</td>\n",
              "    </tr>\n",
              "    <tr>\n",
              "      <th>nitritos_binary</th>\n",
              "      <td>2115.0</td>\n",
              "      <td>0.035461</td>\n",
              "      <td>0.184986</td>\n",
              "      <td>0.0</td>\n",
              "      <td>0.000000</td>\n",
              "      <td>0.000000</td>\n",
              "      <td>0.000000</td>\n",
              "      <td>1.0</td>\n",
              "    </tr>\n",
              "    <tr>\n",
              "      <th>egoinfeccin_binary</th>\n",
              "      <td>2115.0</td>\n",
              "      <td>0.000000</td>\n",
              "      <td>0.000000</td>\n",
              "      <td>0.0</td>\n",
              "      <td>0.000000</td>\n",
              "      <td>0.000000</td>\n",
              "      <td>0.000000</td>\n",
              "      <td>0.0</td>\n",
              "    </tr>\n",
              "    <tr>\n",
              "      <th>egoanormal_binary</th>\n",
              "      <td>2115.0</td>\n",
              "      <td>0.072813</td>\n",
              "      <td>0.259891</td>\n",
              "      <td>0.0</td>\n",
              "      <td>0.000000</td>\n",
              "      <td>0.000000</td>\n",
              "      <td>0.000000</td>\n",
              "      <td>1.0</td>\n",
              "    </tr>\n",
              "    <tr>\n",
              "      <th>riesgo_quirurgico</th>\n",
              "      <td>2115.0</td>\n",
              "      <td>1.638771</td>\n",
              "      <td>0.534532</td>\n",
              "      <td>1.0</td>\n",
              "      <td>1.000000</td>\n",
              "      <td>2.000000</td>\n",
              "      <td>2.000000</td>\n",
              "      <td>3.0</td>\n",
              "    </tr>\n",
              "  </tbody>\n",
              "</table>\n",
              "</div>\n",
              "    <div class=\"colab-df-buttons\">\n",
              "\n",
              "  <div class=\"colab-df-container\">\n",
              "    <button class=\"colab-df-convert\" onclick=\"convertToInteractive('df-35c9aa67-358d-4dc8-97bd-004c46c2ef34')\"\n",
              "            title=\"Convert this dataframe to an interactive table.\"\n",
              "            style=\"display:none;\">\n",
              "\n",
              "  <svg xmlns=\"http://www.w3.org/2000/svg\" height=\"24px\" viewBox=\"0 -960 960 960\">\n",
              "    <path d=\"M120-120v-720h720v720H120Zm60-500h600v-160H180v160Zm220 220h160v-160H400v160Zm0 220h160v-160H400v160ZM180-400h160v-160H180v160Zm440 0h160v-160H620v160ZM180-180h160v-160H180v160Zm440 0h160v-160H620v160Z\"/>\n",
              "  </svg>\n",
              "    </button>\n",
              "\n",
              "  <style>\n",
              "    .colab-df-container {\n",
              "      display:flex;\n",
              "      gap: 12px;\n",
              "    }\n",
              "\n",
              "    .colab-df-convert {\n",
              "      background-color: #E8F0FE;\n",
              "      border: none;\n",
              "      border-radius: 50%;\n",
              "      cursor: pointer;\n",
              "      display: none;\n",
              "      fill: #1967D2;\n",
              "      height: 32px;\n",
              "      padding: 0 0 0 0;\n",
              "      width: 32px;\n",
              "    }\n",
              "\n",
              "    .colab-df-convert:hover {\n",
              "      background-color: #E2EBFA;\n",
              "      box-shadow: 0px 1px 2px rgba(60, 64, 67, 0.3), 0px 1px 3px 1px rgba(60, 64, 67, 0.15);\n",
              "      fill: #174EA6;\n",
              "    }\n",
              "\n",
              "    .colab-df-buttons div {\n",
              "      margin-bottom: 4px;\n",
              "    }\n",
              "\n",
              "    [theme=dark] .colab-df-convert {\n",
              "      background-color: #3B4455;\n",
              "      fill: #D2E3FC;\n",
              "    }\n",
              "\n",
              "    [theme=dark] .colab-df-convert:hover {\n",
              "      background-color: #434B5C;\n",
              "      box-shadow: 0px 1px 3px 1px rgba(0, 0, 0, 0.15);\n",
              "      filter: drop-shadow(0px 1px 2px rgba(0, 0, 0, 0.3));\n",
              "      fill: #FFFFFF;\n",
              "    }\n",
              "  </style>\n",
              "\n",
              "    <script>\n",
              "      const buttonEl =\n",
              "        document.querySelector('#df-35c9aa67-358d-4dc8-97bd-004c46c2ef34 button.colab-df-convert');\n",
              "      buttonEl.style.display =\n",
              "        google.colab.kernel.accessAllowed ? 'block' : 'none';\n",
              "\n",
              "      async function convertToInteractive(key) {\n",
              "        const element = document.querySelector('#df-35c9aa67-358d-4dc8-97bd-004c46c2ef34');\n",
              "        const dataTable =\n",
              "          await google.colab.kernel.invokeFunction('convertToInteractive',\n",
              "                                                    [key], {});\n",
              "        if (!dataTable) return;\n",
              "\n",
              "        const docLinkHtml = 'Like what you see? Visit the ' +\n",
              "          '<a target=\"_blank\" href=https://colab.research.google.com/notebooks/data_table.ipynb>data table notebook</a>'\n",
              "          + ' to learn more about interactive tables.';\n",
              "        element.innerHTML = '';\n",
              "        dataTable['output_type'] = 'display_data';\n",
              "        await google.colab.output.renderOutput(dataTable, element);\n",
              "        const docLink = document.createElement('div');\n",
              "        docLink.innerHTML = docLinkHtml;\n",
              "        element.appendChild(docLink);\n",
              "      }\n",
              "    </script>\n",
              "  </div>\n",
              "\n",
              "\n",
              "<div id=\"df-fc2a9558-6807-4c2d-8584-03b87747b2fd\">\n",
              "  <button class=\"colab-df-quickchart\" onclick=\"quickchart('df-fc2a9558-6807-4c2d-8584-03b87747b2fd')\"\n",
              "            title=\"Suggest charts\"\n",
              "            style=\"display:none;\">\n",
              "\n",
              "<svg xmlns=\"http://www.w3.org/2000/svg\" height=\"24px\"viewBox=\"0 0 24 24\"\n",
              "     width=\"24px\">\n",
              "    <g>\n",
              "        <path d=\"M19 3H5c-1.1 0-2 .9-2 2v14c0 1.1.9 2 2 2h14c1.1 0 2-.9 2-2V5c0-1.1-.9-2-2-2zM9 17H7v-7h2v7zm4 0h-2V7h2v10zm4 0h-2v-4h2v4z\"/>\n",
              "    </g>\n",
              "</svg>\n",
              "  </button>\n",
              "\n",
              "<style>\n",
              "  .colab-df-quickchart {\n",
              "      --bg-color: #E8F0FE;\n",
              "      --fill-color: #1967D2;\n",
              "      --hover-bg-color: #E2EBFA;\n",
              "      --hover-fill-color: #174EA6;\n",
              "      --disabled-fill-color: #AAA;\n",
              "      --disabled-bg-color: #DDD;\n",
              "  }\n",
              "\n",
              "  [theme=dark] .colab-df-quickchart {\n",
              "      --bg-color: #3B4455;\n",
              "      --fill-color: #D2E3FC;\n",
              "      --hover-bg-color: #434B5C;\n",
              "      --hover-fill-color: #FFFFFF;\n",
              "      --disabled-bg-color: #3B4455;\n",
              "      --disabled-fill-color: #666;\n",
              "  }\n",
              "\n",
              "  .colab-df-quickchart {\n",
              "    background-color: var(--bg-color);\n",
              "    border: none;\n",
              "    border-radius: 50%;\n",
              "    cursor: pointer;\n",
              "    display: none;\n",
              "    fill: var(--fill-color);\n",
              "    height: 32px;\n",
              "    padding: 0;\n",
              "    width: 32px;\n",
              "  }\n",
              "\n",
              "  .colab-df-quickchart:hover {\n",
              "    background-color: var(--hover-bg-color);\n",
              "    box-shadow: 0 1px 2px rgba(60, 64, 67, 0.3), 0 1px 3px 1px rgba(60, 64, 67, 0.15);\n",
              "    fill: var(--button-hover-fill-color);\n",
              "  }\n",
              "\n",
              "  .colab-df-quickchart-complete:disabled,\n",
              "  .colab-df-quickchart-complete:disabled:hover {\n",
              "    background-color: var(--disabled-bg-color);\n",
              "    fill: var(--disabled-fill-color);\n",
              "    box-shadow: none;\n",
              "  }\n",
              "\n",
              "  .colab-df-spinner {\n",
              "    border: 2px solid var(--fill-color);\n",
              "    border-color: transparent;\n",
              "    border-bottom-color: var(--fill-color);\n",
              "    animation:\n",
              "      spin 1s steps(1) infinite;\n",
              "  }\n",
              "\n",
              "  @keyframes spin {\n",
              "    0% {\n",
              "      border-color: transparent;\n",
              "      border-bottom-color: var(--fill-color);\n",
              "      border-left-color: var(--fill-color);\n",
              "    }\n",
              "    20% {\n",
              "      border-color: transparent;\n",
              "      border-left-color: var(--fill-color);\n",
              "      border-top-color: var(--fill-color);\n",
              "    }\n",
              "    30% {\n",
              "      border-color: transparent;\n",
              "      border-left-color: var(--fill-color);\n",
              "      border-top-color: var(--fill-color);\n",
              "      border-right-color: var(--fill-color);\n",
              "    }\n",
              "    40% {\n",
              "      border-color: transparent;\n",
              "      border-right-color: var(--fill-color);\n",
              "      border-top-color: var(--fill-color);\n",
              "    }\n",
              "    60% {\n",
              "      border-color: transparent;\n",
              "      border-right-color: var(--fill-color);\n",
              "    }\n",
              "    80% {\n",
              "      border-color: transparent;\n",
              "      border-right-color: var(--fill-color);\n",
              "      border-bottom-color: var(--fill-color);\n",
              "    }\n",
              "    90% {\n",
              "      border-color: transparent;\n",
              "      border-bottom-color: var(--fill-color);\n",
              "    }\n",
              "  }\n",
              "</style>\n",
              "\n",
              "  <script>\n",
              "    async function quickchart(key) {\n",
              "      const quickchartButtonEl =\n",
              "        document.querySelector('#' + key + ' button');\n",
              "      quickchartButtonEl.disabled = true;  // To prevent multiple clicks.\n",
              "      quickchartButtonEl.classList.add('colab-df-spinner');\n",
              "      try {\n",
              "        const charts = await google.colab.kernel.invokeFunction(\n",
              "            'suggestCharts', [key], {});\n",
              "      } catch (error) {\n",
              "        console.error('Error during call to suggestCharts:', error);\n",
              "      }\n",
              "      quickchartButtonEl.classList.remove('colab-df-spinner');\n",
              "      quickchartButtonEl.classList.add('colab-df-quickchart-complete');\n",
              "    }\n",
              "    (() => {\n",
              "      let quickchartButtonEl =\n",
              "        document.querySelector('#df-fc2a9558-6807-4c2d-8584-03b87747b2fd button');\n",
              "      quickchartButtonEl.style.display =\n",
              "        google.colab.kernel.accessAllowed ? 'block' : 'none';\n",
              "    })();\n",
              "  </script>\n",
              "</div>\n",
              "\n",
              "    </div>\n",
              "  </div>\n"
            ],
            "application/vnd.google.colaboratory.intrinsic+json": {
              "type": "dataframe",
              "summary": "{\n  \"name\": \"df\",\n  \"rows\": 46,\n  \"fields\": [\n    {\n      \"column\": \"count\",\n      \"properties\": {\n        \"dtype\": \"number\",\n        \"std\": 0.0,\n        \"min\": 2115.0,\n        \"max\": 2115.0,\n        \"num_unique_values\": 1,\n        \"samples\": [\n          2115.0\n        ],\n        \"semantic_type\": \"\",\n        \"description\": \"\"\n      }\n    },\n    {\n      \"column\": \"mean\",\n      \"properties\": {\n        \"dtype\": \"number\",\n        \"std\": 0.30786605500331987,\n        \"min\": -0.29078874430202106,\n        \"max\": 1.6387706855791961,\n        \"num_unique_values\": 46,\n        \"samples\": [\n          0.08983451536643026\n        ],\n        \"semantic_type\": \"\",\n        \"description\": \"\"\n      }\n    },\n    {\n      \"column\": \"std\",\n      \"properties\": {\n        \"dtype\": \"number\",\n        \"std\": 0.14728455421623465,\n        \"min\": 0.0,\n        \"max\": 0.5345316891176864,\n        \"num_unique_values\": 46,\n        \"samples\": [\n          0.28601215487166326\n        ],\n        \"semantic_type\": \"\",\n        \"description\": \"\"\n      }\n    },\n    {\n      \"column\": \"min\",\n      \"properties\": {\n        \"dtype\": \"number\",\n        \"std\": 0.5016879720065436,\n        \"min\": -1.000000000000001,\n        \"max\": 1.0,\n        \"num_unique_values\": 6,\n        \"samples\": [\n          -1.0\n        ],\n        \"semantic_type\": \"\",\n        \"description\": \"\"\n      }\n    },\n    {\n      \"column\": \"25%\",\n      \"properties\": {\n        \"dtype\": \"number\",\n        \"std\": 0.2551778936632872,\n        \"min\": -0.4862152128576764,\n        \"max\": 1.0,\n        \"num_unique_values\": 16,\n        \"samples\": [\n          -0.4862152128576764\n        ],\n        \"semantic_type\": \"\",\n        \"description\": \"\"\n      }\n    },\n    {\n      \"column\": \"50%\",\n      \"properties\": {\n        \"dtype\": \"number\",\n        \"std\": 0.4128304494801438,\n        \"min\": -0.3013156091658905,\n        \"max\": 2.0,\n        \"num_unique_values\": 17,\n        \"samples\": [\n          -0.1007283134554513\n        ],\n        \"semantic_type\": \"\",\n        \"description\": \"\"\n      }\n    },\n    {\n      \"column\": \"75%\",\n      \"properties\": {\n        \"dtype\": \"number\",\n        \"std\": 0.48535398666130913,\n        \"min\": -0.2197497260522595,\n        \"max\": 2.0,\n        \"num_unique_values\": 17,\n        \"samples\": [\n          0.2372841392752947\n        ],\n        \"semantic_type\": \"\",\n        \"description\": \"\"\n      }\n    },\n    {\n      \"column\": \"max\",\n      \"properties\": {\n        \"dtype\": \"number\",\n        \"std\": 0.33260790628557146,\n        \"min\": 0.0,\n        \"max\": 3.0,\n        \"num_unique_values\": 6,\n        \"samples\": [\n          0.9999999999999996\n        ],\n        \"semantic_type\": \"\",\n        \"description\": \"\"\n      }\n    }\n  ]\n}"
            }
          },
          "metadata": {},
          "execution_count": 4
        }
      ]
    },
    {
      "cell_type": "markdown",
      "source": [
        "### Variables finales"
      ],
      "metadata": {
        "id": "nnJroM_zmVnX"
      }
    },
    {
      "cell_type": "code",
      "source": [
        "vars_entrada = [\n",
        "    'edad_n', 'anestesia_3', 'hto_yj_n', 'bun_yj_n', 'leucostotales_yj_n',\n",
        "    'imc_yj_n', 'neutrofilos_yj_n', 'creatinina_yj_n', 'glucosa_yj_n', 'peso_yj_n',\n",
        "    'ttp_yj_n', 'potasio_yj_n', 'tp_yj_n', 'tallacm_n', 'sodio_yj_n', 'anestesia_2',\n",
        "    'sexo_binary', 'valoracion_cardiovascular', 'otrosantecedentesimportantes',\n",
        "    'Hipertensión (HTA)', 'esanormales', 'bhcanormal', 'otros', 'obesidad',\n",
        "    'creatanormal', 'glucosaanormal', 'cirugaprevia', 'primeraqx', 'qsanormal',\n",
        "    'fr_anormal', 'Diabetes Mellitus (DM)']"
      ],
      "metadata": {
        "id": "ZckZe9IhmaFR"
      },
      "execution_count": null,
      "outputs": []
    },
    {
      "cell_type": "markdown",
      "source": [
        "Variables Numéricas (num_vars_entrada):\n",
        "Estas variables han sido transformadas y normalizadas, lo que garantiza que los datos tengan una distribución más adecuada y una escala uniforme. Esto es crucial para modelos predictivos como regresión lineal o redes neuronales, que funcionan mejor con datos distribuidos de forma normal y con una magnitud controlada.\n",
        "\n",
        "Variables Binarias (binary_vars_entrada):\n",
        "Estas variables capturan características dicotómicas del paciente (por ejemplo, presencia o ausencia de enfermedades o hábitos). Los modelos predictivos suelen utilizar estas variables para hacer clasificaciones o cálculos de probabilidades."
      ],
      "metadata": {
        "id": "Pf2LImEDOw5T"
      }
    },
    {
      "cell_type": "code",
      "source": [
        "var_salida = [\"riesgo_quirurgico\"]"
      ],
      "metadata": {
        "id": "iJM1Iyawmjpt"
      },
      "execution_count": null,
      "outputs": []
    },
    {
      "cell_type": "markdown",
      "source": [
        "Variable Objetivo:\n",
        "\"riesgo_quirurgico\" es la variable de salida que el modelo tratará de predecir o clasificar. Por ejemplo, en un modelo de clasificación, esta variable podría tener valores como:\n",
        "\n",
        "    1: Riesgo bajo\n",
        "    2: Riesgo medio\n",
        "    3: Riesgo alto\n",
        "\n",
        "Importancia en Modelos Predictivos:\n",
        "Esta variable se utilizará como referencia durante el entrenamiento del modelo. El objetivo es que, con base en las variables de entrada, el modelo pueda predecir el nivel de riesgo quirúrgico para nuevos pacientes."
      ],
      "metadata": {
        "id": "sdV0O7PZO0Mr"
      }
    },
    {
      "cell_type": "markdown",
      "source": [
        "#### Azar"
      ],
      "metadata": {
        "id": "ywJXXzu97qFF"
      }
    },
    {
      "cell_type": "code",
      "source": [
        "# Definir las variables predictoras y la variable objetivo\n",
        "X = df[vars_entrada]\n",
        "y = df['riesgo_quirurgico']"
      ],
      "metadata": {
        "id": "jEY7NodD7wzf"
      },
      "execution_count": null,
      "outputs": []
    },
    {
      "cell_type": "code",
      "source": [
        "# Generar predicciones aleatorias como en el código original\n",
        "np.random.seed(42)\n",
        "y_pred = np.random.randint(1, 4, size=len(y))  # Predicciones entre 1 y 3, correspondientes a las clases de riesgo"
      ],
      "metadata": {
        "id": "cfmo9j3DYaAe"
      },
      "execution_count": null,
      "outputs": []
    },
    {
      "cell_type": "code",
      "source": [
        "# Calcular la precisión (accuracy) y el F1 score\n",
        "accuracy = accuracy_score(y, y_pred)\n",
        "f1 = f1_score(y, y_pred, average='weighted')"
      ],
      "metadata": {
        "id": "Ixizh8xhYe5b"
      },
      "execution_count": null,
      "outputs": []
    },
    {
      "cell_type": "code",
      "source": [
        "print(f\"Accuracy: {accuracy}\")\n",
        "print(f\"F1 Score: {f1}\")"
      ],
      "metadata": {
        "colab": {
          "base_uri": "https://localhost:8080/"
        },
        "id": "81SveZNFYh6A",
        "outputId": "3f8c7cd2-42f5-4d2e-b70d-a0777d4dc39f"
      },
      "execution_count": null,
      "outputs": [
        {
          "output_type": "stream",
          "name": "stdout",
          "text": [
            "Accuracy: 0.33286052009456263\n",
            "F1 Score: 0.38660930658894593\n"
          ]
        }
      ]
    },
    {
      "cell_type": "markdown",
      "source": [
        "El código toma un conjunto de datos de variables quirúrgicas y utiliza algunas variables numéricas y binarias como entrada. La variable objetivo es riesgo_quirurgico, que se clasifica en tres categorías (1, 2 y 3). Para evaluar el rendimiento de un modelo, se generan predicciones aleatorias entre las clases de riesgo. Posteriormente, se calculan las métricas de accuracy (precisión) y F1 score ponderado para evaluar la calidad de las predicciones.\n",
        "\n",
        "**Resumen de los resultados:**\n",
        "\n",
        "  * Accuracy (precisión): 0.33. Esto significa que el modelo aleatorio predice correctamente alrededor del 33% de los casos, lo cual es esperado en un modelo aleatorio.\n",
        "  \n",
        "  * F1 Score ponderado: 0.38. Esta métrica tiene en cuenta tanto la precisión como la exhaustividad del modelo, proporcionando un valor ponderado por las clases. Aunque es mejor que la precisión pura, sigue reflejando la baja calidad de un modelo de predicción aleatoria."
      ],
      "metadata": {
        "id": "rlwoZCeKQ0ps"
      }
    },
    {
      "cell_type": "markdown",
      "source": [
        "#### Separar el set de datos"
      ],
      "metadata": {
        "id": "f8lpEzlk_NDk"
      }
    },
    {
      "cell_type": "code",
      "source": [
        "# Dividir los datos en conjuntos de entrenamiento y prueba\n",
        "X_train, X_test, y_train, y_test = train_test_split(X, y, test_size=0.3, random_state=42)"
      ],
      "metadata": {
        "id": "c9FOsOlt_B5P"
      },
      "execution_count": null,
      "outputs": []
    },
    {
      "cell_type": "markdown",
      "source": [
        "#### 1.- SVM"
      ],
      "metadata": {
        "id": "12nJvWni-Ay0"
      }
    },
    {
      "cell_type": "code",
      "source": [
        "# Medir el tiempo de entrenamiento\n",
        "start_time = time.time()\n",
        "\n",
        "# Inicializar y entrenar el modelo SVM\n",
        "model_svm = SVC()\n",
        "model_svm.fit(X_train, y_train)\n",
        "\n",
        "# Predecir en el conjunto de prueba\n",
        "y_pred_svm = model_svm.predict(X_test)\n",
        "\n",
        "# Calcular el tiempo de entrenamiento\n",
        "training_time_svm = time.time() - start_time\n",
        "\n",
        "# Evaluar el rendimiento del modelo con varias métricas\n",
        "accuracy_svm = accuracy_score(y_test, y_pred_svm)\n",
        "f1_svm = f1_score(y_test, y_pred_svm, average='weighted')  # 'weighted' para considerar la distribución de clases\n",
        "precision_svm = precision_score(y_test, y_pred_svm, average='weighted')\n",
        "recall_svm = recall_score(y_test, y_pred_svm, average='weighted')\n",
        "\n",
        "# Imprimir resultados\n",
        "print(f'Accuracy: {accuracy_svm:.4f}')\n",
        "print(f'F1 Score: {f1_svm:.4f}')\n",
        "print(f'Precision: {precision_svm:.4f}')\n",
        "print(f'Recall: {recall_svm:.4f}')\n",
        "print(f\"Tiempo de entrenamiento SVM: {training_time_svm:.2f} segundos\")"
      ],
      "metadata": {
        "colab": {
          "base_uri": "https://localhost:8080/"
        },
        "id": "I5FWtqo3-0Ty",
        "outputId": "bd1cd6b5-19d5-4270-cf5f-8fc67b760fde"
      },
      "execution_count": null,
      "outputs": [
        {
          "output_type": "stream",
          "name": "stdout",
          "text": [
            "Accuracy: 0.6913\n",
            "F1 Score: 0.6592\n",
            "Precision: 0.6851\n",
            "Recall: 0.6913\n",
            "Tiempo de entrenamiento SVM: 0.21 segundos\n"
          ]
        }
      ]
    },
    {
      "cell_type": "markdown",
      "source": [
        "  1. Desempeño global:\n",
        "  \n",
        "    * Con un accuracy cercano al 70% y un F1 Score de 66%, el modelo tiene un rendimiento moderado. No es excelente, pero puede ser un punto de partida aceptable, dependiendo de las expectativas y el umbral requerido para el problema en cuestión.\n",
        "\n",
        "  2. Balance entre precisión y recall:\n",
        "  \n",
        "    * El F1 Score más bajo que el accuracy sugiere que el modelo puede estar luchando por encontrar un buen balance entre precisión y recall, posiblemente debido a problemas con falsos positivos o falsos negativos.\n",
        "\n",
        "  3. Posibles mejoras: Dado que el rendimiento es moderado, puedes explorar ajustes en el modelo para mejorar su capacidad predictiva. Algunas estrategias podrían incluir:\n",
        "\n",
        "      * Ajuste de hiperparámetros del SVM (por ejemplo, el valor de C o el tipo de kernel utilizado).\n",
        "\n",
        "      * Considerar técnicas de preprocesamiento de datos adicionales, como la normalización o la transformación de variables.\n",
        "\n",
        "      * Probar con otro tipo de modelo o técnica de selección de características para ver si mejoras el rendimiento.\n",
        "\n",
        "  4. Eficiencia computacional:\n",
        "    \n",
        "    * El tiempo de entrenamiento de solo 0.21 segundos es un punto muy positivo, lo que significa que este modelo es computacionalmente eficiente y adecuado para sistemas en tiempo real o aplicaciones con restricciones de tiempo.\n",
        "\n",
        "En resumen, el modelo tiene un desempeño moderado y es eficiente en términos de tiempo de entrenamiento, pero existe margen para mejorar la precisión y el equilibrio entre precisión y recall para obtener un mejor rendimiento general."
      ],
      "metadata": {
        "id": "xNhU7FI8dnbr"
      }
    },
    {
      "cell_type": "markdown",
      "source": [
        "#### 2.- Árbol de decisión"
      ],
      "metadata": {
        "id": "9I6oaoRF-tkW"
      }
    },
    {
      "cell_type": "code",
      "source": [
        "# Medir el tiempo de entrenamiento\n",
        "start_time = time.time()\n",
        "\n",
        "# Inicializar el modelo de árbol de decisión\n",
        "model_ad = DecisionTreeClassifier(random_state=42)\n",
        "\n",
        "# Entrenar el modelo\n",
        "model_ad.fit(X_train, y_train)\n",
        "\n",
        "# Predecir en el conjunto de prueba\n",
        "y_pred_ad = model_ad.predict(X_test)\n",
        "\n",
        "# Calcular el tiempo de entrenamiento\n",
        "training_time_ad = time.time() - start_time\n",
        "\n",
        "# Evaluar el rendimiento del modelo con varias métricas\n",
        "accuracy_ad = accuracy_score(y_test, y_pred_ad)\n",
        "f1_ad = f1_score(y_test, y_pred_ad, average='weighted')  # 'weighted' para ponderar según la distribución de clases\n",
        "precision_ad = precision_score(y_test, y_pred_ad, average='weighted')\n",
        "recall_ad = recall_score(y_test, y_pred_ad, average='weighted')\n",
        "\n",
        "# Imprimir resultados\n",
        "print(f'Accuracy: {accuracy_ad:.4f}')\n",
        "print(f'F1 Score: {f1_ad:.4f}')\n",
        "print(f'Precision: {precision_ad:.4f}')\n",
        "print(f'Recall: {recall_ad:.4f}')\n",
        "print(f\"Tiempo de entrenamiento AD: {training_time_ad:.2f} segundos\")"
      ],
      "metadata": {
        "colab": {
          "base_uri": "https://localhost:8080/"
        },
        "id": "_81SAnAE-04a",
        "outputId": "b684dec3-f61c-4b67-eef3-dbb27d0acab2"
      },
      "execution_count": null,
      "outputs": [
        {
          "output_type": "stream",
          "name": "stdout",
          "text": [
            "Accuracy: 0.6016\n",
            "F1 Score: 0.6038\n",
            "Precision: 0.6104\n",
            "Recall: 0.6016\n",
            "Tiempo de entrenamiento AD: 0.03 segundos\n"
          ]
        }
      ]
    },
    {
      "cell_type": "markdown",
      "source": [
        "El rendimiento del modelo de Árbol de Decisión es moderado a bajo en términos de precisión, F1 Score, precisión y recall, con valores en torno al 0.59-0.60. A continuación, se detallan algunas conclusiones clave:\n",
        "\n",
        "  1. Desempeño del modelo:\n",
        "      \n",
        "      * Un accuracy de 60% y un F1 Score de 60% sugieren que el modelo no está clasificando adecuadamente un número significativo de instancias. Si este es un problema donde la precisión es crucial, sería necesario mejorar el rendimiento del modelo mediante ajustes de hiperparámetros, poda del árbol de decisión, o incluso probar con otros modelos más complejos (como Random Forest o Gradient Boosting).\n",
        "\n",
        "  2. Balance entre falsos positivos y falsos negativos:\n",
        "      \n",
        "      * La cercanía entre precision y recall sugiere que el modelo no tiene un sesgo significativo hacia los falsos positivos o los falsos negativos, lo cual es positivo. Sin embargo, el rendimiento general del modelo aún es bajo, lo que implica que el modelo está fallando en ambas dimensiones en una proporción relativamente alta.\n",
        "\n",
        "  3. Eficiencia computacional:\n",
        "        \n",
        "      * El tiempo de entrenamiento extremadamente bajo (0.03 segundos) es un punto fuerte del modelo, lo que lo hace muy eficiente. Esta característica es útil si se necesita un modelo que pueda entrenarse rápidamente con datos en tiempo real o que deba actualizarse frecuentemente.\n",
        "\n",
        "El modelo de Árbol de Decisión tiene un rendimiento moderado a bajo, con métricas en torno al 0.59-0.60, lo que indica que el modelo podría beneficiarse de ajustes adicionales o de la implementación de un modelo más avanzado para mejorar su precisión. Sin embargo, el tiempo de entrenamiento es extremadamente eficiente, lo que puede ser útil en ciertas aplicaciones donde la velocidad es más importante que la precisión."
      ],
      "metadata": {
        "id": "AwinUIwpenM9"
      }
    },
    {
      "cell_type": "markdown",
      "source": [
        "#### 3.- Naive Bayes"
      ],
      "metadata": {
        "id": "7feAq-ll-wwK"
      }
    },
    {
      "cell_type": "code",
      "source": [
        "# Medir el tiempo de entrenamiento\n",
        "start_time = time.time()\n",
        "\n",
        "# Inicializar el modelo Gaussian Naive Bayes\n",
        "model_nb = GaussianNB()\n",
        "\n",
        "# Entrenar el modelo\n",
        "model_nb.fit(X_train, y_train)\n",
        "\n",
        "# Predecir en el conjunto de prueba\n",
        "y_pred_nb = model_nb.predict(X_test)\n",
        "\n",
        "# Calcular el tiempo de entrenamiento\n",
        "training_time_nb = time.time() - start_time\n",
        "\n",
        "# Evaluar el rendimiento del modelo con varias métricas\n",
        "accuracy_nb = accuracy_score(y_test, y_pred_nb)\n",
        "f1_nb = f1_score(y_test, y_pred_nb, average='weighted')  # 'weighted' para ponderar según la distribución de clases\n",
        "precision_nb = precision_score(y_test, y_pred_nb, average='weighted')\n",
        "recall_nb = recall_score(y_test, y_pred_nb, average='weighted')\n",
        "\n",
        "# Imprimir los resultados\n",
        "print(f'Accuracy: {accuracy_nb:.4f}')\n",
        "print(f'F1 Score: {f1_nb:.4f}')\n",
        "print(f'Precision: {precision_nb:.4f}')\n",
        "print(f'Recall: {recall_nb:.4f}')\n",
        "print(f\"Tiempo de entrenamiento NB: {training_time_nb:.2f} segundos\")"
      ],
      "metadata": {
        "colab": {
          "base_uri": "https://localhost:8080/"
        },
        "id": "Xa6E3ghB-1ny",
        "outputId": "9537c61f-688d-46ee-ef1b-98657eb012dc"
      },
      "execution_count": null,
      "outputs": [
        {
          "output_type": "stream",
          "name": "stdout",
          "text": [
            "Accuracy: 0.6457\n",
            "F1 Score: 0.5965\n",
            "Precision: 0.7049\n",
            "Recall: 0.6457\n",
            "Tiempo de entrenamiento NB: 0.01 segundos\n"
          ]
        }
      ]
    },
    {
      "cell_type": "markdown",
      "source": [
        "El modelo Gaussian Naive Bayes tiene un rendimiento muy pobre en este caso, como se refleja en el accuracy y el recall bajos, así como en el F1 Score. A continuación, las principales conclusiones:\n",
        "\n",
        "  1. Mala capacidad predictiva:\n",
        "      \n",
        "      * El accuracy (64%) y recall sugieren que el modelo acierta en más de la mitad de las predicciones. El F1-score podría implicar que el modelo no está capturando todas las instancias relevantes.\n",
        "\n",
        "  2. Precisión engañosa:\n",
        "      \n",
        "      * La alta precisión (70%) es engañosa, ya que indica que cuando el modelo hace una predicción positiva, lo hace correctamente la mayor parte del tiempo. Sin embargo, dado que el recall es bajo, significa que el modelo casi no está prediciendo suficientes instancias positivas, lo que lo vuelve ineficaz para un uso práctico.\n",
        "\n",
        "  3. Posibles causas:\n",
        "      \n",
        "      * Naive Bayes asume que las características son independientes entre sí, lo que probablemente no sea cierto en este caso. Esta suposición de independencia puede estar causando que el modelo falle en capturar las verdaderas relaciones entre las variables, lo que lleva a un rendimiento pobre.\n",
        "        \n",
        "      * Además, el bajo recall y accuracy podrían deberse a un desbalance de clases, donde una clase es mucho más frecuente que la otra. El modelo parece estar sesgado hacia la clase mayoritaria, lo que explicaría los bajos valores de recall.\n",
        "\n",
        "El modelo Naive Bayes es computacionalmente eficiente (entrenamiento rápido), pero tiene un rendimiento extremadamente bajo en términos de accuracy y recall, lo que sugiere que no es adecuado para este conjunto de datos o problema en particular. Es recomendable probar otros modelos y abordar cualquier posible desbalance de clases para mejorar el rendimiento."
      ],
      "metadata": {
        "id": "i7YgQsH1zCTI"
      }
    },
    {
      "cell_type": "markdown",
      "source": [
        "#### 4.- KNeighborsClassifier"
      ],
      "metadata": {
        "id": "9ne_nUzL-2S3"
      }
    },
    {
      "cell_type": "code",
      "source": [
        "# Medir el tiempo de entrenamiento\n",
        "start_time = time.time()\n",
        "\n",
        "# Inicializar el modelo K-Nearest Neighbors con k=3\n",
        "model_knc = KNeighborsClassifier(n_neighbors=3)\n",
        "\n",
        "# Entrenar el modelo\n",
        "model_knc.fit(X_train, y_train)\n",
        "\n",
        "# Predecir en el conjunto de prueba\n",
        "y_pred_knc = model_knc.predict(X_test)\n",
        "\n",
        "# Calcular el tiempo de entrenamiento\n",
        "training_time_knc = time.time() - start_time\n",
        "\n",
        "# Evaluar el rendimiento del modelo con varias métricas\n",
        "accuracy_knc = accuracy_score(y_test, y_pred_knc)\n",
        "f1_knc = f1_score(y_test, y_pred_knc, average='weighted')  # 'weighted' para ponderar según la distribución de clases\n",
        "precision_knc = precision_score(y_test, y_pred_knc, average='weighted')\n",
        "recall_knc = recall_score(y_test, y_pred_knc, average='weighted')\n",
        "\n",
        "# Imprimir los resultados\n",
        "print(f'Accuracy: {accuracy_knc:.4f}')\n",
        "print(f'F1 Score: {f1_knc:.4f}')\n",
        "print(f'Precision: {precision_knc:.4f}')\n",
        "print(f'Recall: {recall_knc:.4f}')\n",
        "print(f\"Tiempo de entrenamiento KNC: {training_time_knc:.2f} segundos\")"
      ],
      "metadata": {
        "colab": {
          "base_uri": "https://localhost:8080/"
        },
        "id": "XWbwxlEv-5WG",
        "outputId": "88505330-c3c4-41cd-f5a3-2133bc2c30b9"
      },
      "execution_count": null,
      "outputs": [
        {
          "output_type": "stream",
          "name": "stdout",
          "text": [
            "Accuracy: 0.6409\n",
            "F1 Score: 0.6331\n",
            "Precision: 0.6443\n",
            "Recall: 0.6409\n",
            "Tiempo de entrenamiento KNC: 0.11 segundos\n"
          ]
        }
      ]
    },
    {
      "cell_type": "markdown",
      "source": [
        "  1. Rendimiento General: Moderado:\n",
        "      \n",
        "      * Un accuracy y F1 Score de alrededor del 63% sugieren que el modelo tiene un rendimiento moderado, pero aún hay margen para mejorar. En un escenario de clasificación, este rendimiento podría ser aceptable dependiendo de las necesidades del problema, pero en muchos casos sería deseable un valor de accuracy y F1 Score más alto.\n",
        "\n",
        "  2. Balance entre Precisión y Recall:\n",
        "      * Las métricas de precisión y recall están bastante equilibradas con el accuracy y el F1 Score, lo que sugiere que el modelo está manteniendo un balance adecuado entre las instancias predichas correctamente y los errores cometidos. Esto es positivo, ya que no parece haber un sesgo significativo hacia falsos positivos o falsos negativos.\n",
        "\n",
        "  3. Eficiencia computacional:\n",
        "      * El KNN es eficiente en términos de tiempo de entrenamiento, como muestra el valor de 0.11 segundos, pero es importante recordar que KNN puede volverse más costoso durante la fase de predicción, especialmente en grandes conjuntos de datos.\n",
        "\n",
        "El modelo K-Nearest Neighbors (KNN) tiene un rendimiento moderado con un accuracy de 64% y un F1 Score de 63%, lo que sugiere que el modelo es razonablemente bueno para este conjunto de datos, aunque hay margen de mejora. El tiempo de entrenamiento es bajo, lo que lo convierte en una opción eficiente en términos computacionales. Si se requiere una mayor precisión, se podrían probar otros valores de k, ajustar los hiperparámetros o preprocesar mejor los datos (por ejemplo, normalización) para mejorar los resultados."
      ],
      "metadata": {
        "id": "wJZQGxce04t0"
      }
    },
    {
      "cell_type": "markdown",
      "source": [
        "#### 5.- MLPClassifier"
      ],
      "metadata": {
        "id": "IswGKfmR-6pg"
      }
    },
    {
      "cell_type": "code",
      "source": [
        "# Medir el tiempo de entrenamiento\n",
        "start_time = time.time()\n",
        "\n",
        "# Inicializar el modelo MLP (Perceptrón Multicapa) con una capa oculta de 100 neuronas\n",
        "model_mlp = MLPClassifier(hidden_layer_sizes=(100,), max_iter=300, random_state=42)\n",
        "\n",
        "# Entrenar el modelo\n",
        "model_mlp.fit(X_train, y_train)\n",
        "\n",
        "# Predecir en el conjunto de prueba\n",
        "y_pred_mlp = model_mlp.predict(X_test)\n",
        "\n",
        "# Calcular el tiempo de entrenamiento\n",
        "training_time_mlp = time.time() - start_time\n",
        "\n",
        "# Evaluar el rendimiento del modelo con varias métricas\n",
        "accuracy_mlp = accuracy_score(y_test, y_pred_mlp)\n",
        "f1_mlp = f1_score(y_test, y_pred_mlp, average='weighted')  # 'weighted' para ponderar según la distribución de clases\n",
        "precision_mlp = precision_score(y_test, y_pred_mlp, average='weighted')\n",
        "recall_mlp = recall_score(y_test, y_pred_mlp, average='weighted')\n",
        "\n",
        "# Imprimir resultados\n",
        "print(f'Accuracy: {accuracy_mlp:.4f}')\n",
        "print(f'F1 Score: {f1_mlp:.4f}')\n",
        "print(f'Precision: {precision_mlp:.4f}')\n",
        "print(f'Recall: {recall_mlp:.4f}')\n",
        "print(f\"Tiempo de entrenamiento MLP: {training_time_mlp:.2f} segundos\")"
      ],
      "metadata": {
        "colab": {
          "base_uri": "https://localhost:8080/"
        },
        "id": "Dc1G6JK_-7x5",
        "outputId": "89a134a6-172e-4f34-c60e-edd68795a7f5"
      },
      "execution_count": null,
      "outputs": [
        {
          "output_type": "stream",
          "name": "stdout",
          "text": [
            "Accuracy: 0.6457\n",
            "F1 Score: 0.6419\n",
            "Precision: 0.6404\n",
            "Recall: 0.6457\n",
            "Tiempo de entrenamiento MLP: 5.42 segundos\n"
          ]
        }
      ]
    },
    {
      "cell_type": "markdown",
      "source": [
        "  1. Rendimiento del modelo: Moderado:\n",
        "      \n",
        "      * Con un accuracy de 62% y un F1 Score de 62%, el modelo MLP está ofreciendo un rendimiento moderado. Esto sugiere que el modelo es capaz de capturar patrones útiles en los datos, aunque no está logrando un rendimiento sobresaliente. Si el umbral de rendimiento esperado es superior al 70%, sería necesario ajustar o mejorar el modelo.\n",
        "\n",
        "  2. Balance entre precisión y recall:\n",
        "\n",
        "      * El hecho de que el F1 Score, precisión y recall estén relativamente cercanos al accuracy indica que el modelo tiene un equilibrio razonable entre falsos positivos y falsos negativos. No parece haber un problema importante de sesgo hacia una clase en particular. Esto es positivo, ya que sugiere que el modelo no está sacrificando un tipo de error a expensas de otro.\n",
        "\n",
        "  3. Eficiencia computacional:\n",
        "        \n",
        "      * El tiempo de entrenamiento de 5.42 segundos es considerablemente más largo que en modelos más simples como KNN o regresión logística, pero esto es normal en redes neuronales. Si la eficiencia del tiempo de entrenamiento es un factor clave (por ejemplo, en aplicaciones de tiempo real), podrías considerar la optimización de la arquitectura del modelo o probar técnicas más rápidas como mini-batch gradient descent.\n",
        "\n",
        "El Multilayer Perceptron (MLP) con un accuracy de 64% y un F1 Score de 64% tiene un rendimiento moderado, adecuado en algunos escenarios pero con espacio para mejoras. El modelo está equilibrando bien los errores de predicción (falsos positivos y falsos negativos), pero el rendimiento general podría beneficiarse de ajustes en los hiperparámetros o el preprocesamiento de los datos. Además, el tiempo de entrenamiento de 15 segundos es razonable, pero podría volverse un desafío en escenarios donde la rapidez sea crítica. Con ajustes adicionales, es posible que se pueda mejorar tanto el rendimiento como la eficiencia del modelo."
      ],
      "metadata": {
        "id": "rnurrTwj1Jc4"
      }
    },
    {
      "cell_type": "markdown",
      "source": [
        "#### 6.- Regresión Logística"
      ],
      "metadata": {
        "id": "CQ0s6LaJ-8Hi"
      }
    },
    {
      "cell_type": "code",
      "source": [
        "# Medir el tiempo de entrenamiento\n",
        "start_time = time.time()\n",
        "\n",
        "# Inicializar el modelo de Regresión Logística\n",
        "model_RL = LogisticRegression(max_iter=500, random_state=42)\n",
        "\n",
        "# Entrenar el modelo\n",
        "model_RL.fit(X_train, y_train)\n",
        "\n",
        "# Predecir en el conjunto de prueba\n",
        "y_pred_rl = model_RL.predict(X_test)\n",
        "\n",
        "# Calcular el tiempo de entrenamiento\n",
        "training_time_rl = time.time() - start_time\n",
        "\n",
        "# Evaluar el rendimiento del modelo con varias métricas\n",
        "accuracy_rl = accuracy_score(y_test, y_pred_rl)\n",
        "f1_rl = f1_score(y_test, y_pred_rl, average='weighted')  # 'weighted' para ponderar según la distribución de clases\n",
        "precision_rl = precision_score(y_test, y_pred_rl, average='weighted')\n",
        "recall_rl = recall_score(y_test, y_pred_rl, average='weighted')\n",
        "\n",
        "# Imprimir los resultados\n",
        "print(f'Accuracy: {accuracy_rl:.4f}')\n",
        "print(f'F1 Score: {f1_rl:.4f}')\n",
        "print(f'Precision: {precision_rl:.4f}')\n",
        "print(f'Recall: {recall_rl:.4f}')\n",
        "print(f\"Tiempo de entrenamiento RL: {training_time_rl:.2f} segundos\")"
      ],
      "metadata": {
        "colab": {
          "base_uri": "https://localhost:8080/"
        },
        "id": "BwnOBMbp--ZB",
        "outputId": "e1b550eb-dccd-45d1-c8c5-2ba3365a0c68"
      },
      "execution_count": null,
      "outputs": [
        {
          "output_type": "stream",
          "name": "stdout",
          "text": [
            "Accuracy: 0.6850\n",
            "F1 Score: 0.6608\n",
            "Precision: 0.6673\n",
            "Recall: 0.6850\n",
            "Tiempo de entrenamiento RL: 0.06 segundos\n"
          ]
        }
      ]
    },
    {
      "cell_type": "markdown",
      "source": [
        "  1. Rendimiento del modelo: Moderado:\n",
        "      \n",
        "      * Con un accuracy de 68% y un F1 Score de 64.98%, el modelo de Regresión Logística tiene un rendimiento moderado. Estos valores indican que el modelo es capaz de capturar patrones útiles en los datos, pero no alcanza un rendimiento excepcional. En algunos contextos, este nivel de precisión puede ser aceptable, pero en otros se podría requerir una mayor exactitud.\n",
        "\n",
        "  2. Balance entre precisión y recall:\n",
        "      \n",
        "      * El F1 Score, precisión, y recall están bastante equilibrados, lo que indica que el modelo está manteniendo un buen balance entre los errores de predicción, sin un sesgo significativo hacia falsos positivos o falsos negativos. Esto es positivo, ya que no parece estar sacrificando un tipo de error por otro.\n",
        "\n",
        "  3. Eficiencia computacional:\n",
        "      \n",
        "      * El tiempo de entrenamiento extremadamente bajo (0.06 segundos) es un punto fuerte de la Regresión Logística, lo que la convierte en una opción ideal para aplicaciones que requieren rapidez y eficiencia computacional. Es adecuada para sistemas en tiempo real o situaciones donde los recursos de hardware son limitados.\n",
        "\n",
        "El modelo de Regresión Logística tiene un rendimiento moderado con un accuracy de 68% y un F1 Score de 64.98%, lo que sugiere que es capaz de hacer predicciones razonablemente buenas, pero con margen para mejorar. El modelo mantiene un buen balance entre precisión y recall, lo que es positivo para evitar sesgos hacia falsos positivos o falsos negativos. Su principal ventaja es la eficiencia computacional, ya que el tiempo de entrenamiento es extremadamente bajo, lo que lo convierte en una opción adecuada para aplicaciones que requieren una clasificación rápida y eficiente. Sin embargo, si se requiere un rendimiento más alto, podrían explorarse ajustes en el modelo o probar otras técnicas de modelado más avanzadas."
      ],
      "metadata": {
        "id": "MZv1LirJ1sgy"
      }
    },
    {
      "cell_type": "markdown",
      "source": [
        "#### Comparación"
      ],
      "metadata": {
        "id": "lrQsoFIoEymc"
      }
    },
    {
      "cell_type": "code",
      "source": [
        "# Listas con los resultados de cada modelo\n",
        "modelos_list = ['SVM', 'Árboles de Decisión', 'Naive Bayes', 'KNN', 'MLP', 'Regresión Logística']\n",
        "accuracy_list = [accuracy_svm, accuracy_ad, accuracy_nb, accuracy_knc, accuracy_mlp, accuracy_rl]\n",
        "f1_score_list = [f1_svm, f1_ad, f1_nb, f1_knc, f1_mlp, f1_rl]\n",
        "precision_list = [precision_svm, precision_ad, precision_nb, precision_knc, precision_mlp, precision_rl]\n",
        "recall_list = [recall_svm, recall_ad, recall_nb, recall_knc, recall_mlp, recall_rl]\n",
        "training_time_list = [training_time_svm, training_time_ad, training_time_nb, training_time_knc, training_time_mlp, training_time_rl]"
      ],
      "metadata": {
        "id": "7Apv4v1gE0KZ"
      },
      "execution_count": null,
      "outputs": []
    },
    {
      "cell_type": "code",
      "source": [
        "# Crear un dataframe con los resultados\n",
        "results_df = pd.DataFrame({\n",
        "    'Modelo': modelos_list,\n",
        "    'Accuracy': accuracy_list,\n",
        "    'F1 Score': f1_score_list,\n",
        "    'Precision': precision_list,\n",
        "    'Recall': recall_list,\n",
        "    'Training Time': training_time_list\n",
        "})"
      ],
      "metadata": {
        "id": "jMEMztQ9Fx0M"
      },
      "execution_count": null,
      "outputs": []
    },
    {
      "cell_type": "code",
      "source": [
        "# Mostrar los resultados\n",
        "display(HTML(results_df.to_html(index=False)))"
      ],
      "metadata": {
        "colab": {
          "base_uri": "https://localhost:8080/",
          "height": 238
        },
        "id": "r3enUWTLF029",
        "outputId": "77f7d95c-f2c0-467c-8f8b-9e59c03d07ed"
      },
      "execution_count": null,
      "outputs": [
        {
          "output_type": "display_data",
          "data": {
            "text/plain": [
              "<IPython.core.display.HTML object>"
            ],
            "text/html": [
              "<table border=\"1\" class=\"dataframe\">\n",
              "  <thead>\n",
              "    <tr style=\"text-align: right;\">\n",
              "      <th>Modelo</th>\n",
              "      <th>Accuracy</th>\n",
              "      <th>F1 Score</th>\n",
              "      <th>Precision</th>\n",
              "      <th>Recall</th>\n",
              "      <th>Training Time</th>\n",
              "    </tr>\n",
              "  </thead>\n",
              "  <tbody>\n",
              "    <tr>\n",
              "      <td>SVM</td>\n",
              "      <td>0.691339</td>\n",
              "      <td>0.659166</td>\n",
              "      <td>0.685065</td>\n",
              "      <td>0.691339</td>\n",
              "      <td>0.209988</td>\n",
              "    </tr>\n",
              "    <tr>\n",
              "      <td>Árboles de Decisión</td>\n",
              "      <td>0.601575</td>\n",
              "      <td>0.603770</td>\n",
              "      <td>0.610351</td>\n",
              "      <td>0.601575</td>\n",
              "      <td>0.034526</td>\n",
              "    </tr>\n",
              "    <tr>\n",
              "      <td>Naive Bayes</td>\n",
              "      <td>0.645669</td>\n",
              "      <td>0.596532</td>\n",
              "      <td>0.704901</td>\n",
              "      <td>0.645669</td>\n",
              "      <td>0.009944</td>\n",
              "    </tr>\n",
              "    <tr>\n",
              "      <td>KNN</td>\n",
              "      <td>0.640945</td>\n",
              "      <td>0.633054</td>\n",
              "      <td>0.644277</td>\n",
              "      <td>0.640945</td>\n",
              "      <td>0.106540</td>\n",
              "    </tr>\n",
              "    <tr>\n",
              "      <td>MLP</td>\n",
              "      <td>0.645669</td>\n",
              "      <td>0.641866</td>\n",
              "      <td>0.640370</td>\n",
              "      <td>0.645669</td>\n",
              "      <td>5.767570</td>\n",
              "    </tr>\n",
              "    <tr>\n",
              "      <td>Regresión Logística</td>\n",
              "      <td>0.685039</td>\n",
              "      <td>0.660778</td>\n",
              "      <td>0.667340</td>\n",
              "      <td>0.685039</td>\n",
              "      <td>0.062021</td>\n",
              "    </tr>\n",
              "  </tbody>\n",
              "</table>"
            ]
          },
          "metadata": {}
        }
      ]
    },
    {
      "cell_type": "code",
      "source": [
        "results_df_sorted = results_df.sort_values(by='Accuracy', ascending=False)\n",
        "display(HTML(results_df_sorted.to_html(index=False)))"
      ],
      "metadata": {
        "colab": {
          "base_uri": "https://localhost:8080/",
          "height": 238
        },
        "id": "y0x42i2WMp60",
        "outputId": "8d614bb3-3065-49db-d7cc-e24486d5c6ef"
      },
      "execution_count": null,
      "outputs": [
        {
          "output_type": "display_data",
          "data": {
            "text/plain": [
              "<IPython.core.display.HTML object>"
            ],
            "text/html": [
              "<table border=\"1\" class=\"dataframe\">\n",
              "  <thead>\n",
              "    <tr style=\"text-align: right;\">\n",
              "      <th>Modelo</th>\n",
              "      <th>Accuracy</th>\n",
              "      <th>F1 Score</th>\n",
              "      <th>Precision</th>\n",
              "      <th>Recall</th>\n",
              "      <th>Training Time</th>\n",
              "    </tr>\n",
              "  </thead>\n",
              "  <tbody>\n",
              "    <tr>\n",
              "      <td>SVM</td>\n",
              "      <td>0.691339</td>\n",
              "      <td>0.659166</td>\n",
              "      <td>0.685065</td>\n",
              "      <td>0.691339</td>\n",
              "      <td>0.209988</td>\n",
              "    </tr>\n",
              "    <tr>\n",
              "      <td>Regresión Logística</td>\n",
              "      <td>0.685039</td>\n",
              "      <td>0.660778</td>\n",
              "      <td>0.667340</td>\n",
              "      <td>0.685039</td>\n",
              "      <td>0.062021</td>\n",
              "    </tr>\n",
              "    <tr>\n",
              "      <td>Naive Bayes</td>\n",
              "      <td>0.645669</td>\n",
              "      <td>0.596532</td>\n",
              "      <td>0.704901</td>\n",
              "      <td>0.645669</td>\n",
              "      <td>0.009944</td>\n",
              "    </tr>\n",
              "    <tr>\n",
              "      <td>MLP</td>\n",
              "      <td>0.645669</td>\n",
              "      <td>0.641866</td>\n",
              "      <td>0.640370</td>\n",
              "      <td>0.645669</td>\n",
              "      <td>5.767570</td>\n",
              "    </tr>\n",
              "    <tr>\n",
              "      <td>KNN</td>\n",
              "      <td>0.640945</td>\n",
              "      <td>0.633054</td>\n",
              "      <td>0.644277</td>\n",
              "      <td>0.640945</td>\n",
              "      <td>0.106540</td>\n",
              "    </tr>\n",
              "    <tr>\n",
              "      <td>Árboles de Decisión</td>\n",
              "      <td>0.601575</td>\n",
              "      <td>0.603770</td>\n",
              "      <td>0.610351</td>\n",
              "      <td>0.601575</td>\n",
              "      <td>0.034526</td>\n",
              "    </tr>\n",
              "  </tbody>\n",
              "</table>"
            ]
          },
          "metadata": {}
        }
      ]
    },
    {
      "cell_type": "code",
      "source": [
        "# Crear una gráfica de barras para las métricas de los modelos\n",
        "metrics = ['Accuracy', 'F1 Score', 'Precision', 'Recall']\n",
        "\n",
        "plt.figure(figsize=(10, 6))\n",
        "for metric in metrics:\n",
        "    plt.plot(results_df['Modelo'], results_df[metric], marker='o', label=metric)\n",
        "\n",
        "plt.title('Comparación de Métricas entre Modelos')\n",
        "plt.xlabel('Modelos')\n",
        "plt.ylabel('Métricas')\n",
        "plt.legend()\n",
        "plt.xticks(rotation=45)\n",
        "plt.grid(True)\n",
        "\n",
        "# Mostrar la gráfica\n",
        "plt.tight_layout()\n",
        "plt.show()\n"
      ],
      "metadata": {
        "colab": {
          "base_uri": "https://localhost:8080/",
          "height": 607
        },
        "id": "DM-8C0iyVAiV",
        "outputId": "1a2867e5-6c7d-4c80-c8c4-c34ac0d110c5"
      },
      "execution_count": null,
      "outputs": [
        {
          "output_type": "display_data",
          "data": {
            "text/plain": [
              "<Figure size 1000x600 with 1 Axes>"
            ],
            "image/png": "[encoded data removed]"
          },
          "metadata": {}
        }
      ]
    },
    {
      "cell_type": "markdown",
      "source": [
        "1. Los modelos más recomendables para este conjunto de datos, por su buen balance entre rendimiento y tiempo de entrenamiento, son SVM y Regresión Logística.\n",
        "\n",
        "2. MLP ofrece un rendimiento similar pero con un costo computacional mayor.\n",
        "\n",
        "3. Naive Bayes y Árboles de Decisión son rápidos pero no adecuados para este problema debido a su bajo rendimiento predictivo.\n",
        "\n",
        "4. KNN puede ser una opción aceptable, pero requiere ajustes adicionales para mejorar su precisión.\n",
        "\n",
        "En general, si se busca un modelo rápido y preciso, SVM, MLP o Regresión Logística serían las mejores opciones."
      ],
      "metadata": {
        "id": "kCHt7qg62d6t"
      }
    },
    {
      "cell_type": "code",
      "source": [
        "x = np.arange(len(modelos_list))\n",
        "width = 0.2  # Ancho de las barras\n",
        "\n",
        "# Crear la gráfica de barras para Accuracy y F1 Score\n",
        "fig, ax = plt.subplots()\n",
        "bars1 = ax.bar(x - width/2, accuracy_list, width, label='Accuracy')\n",
        "bars2 = ax.bar(x + width/2, f1_score_list, width, label='F1 Score')\n",
        "\n",
        "# Etiquetas y título\n",
        "ax.set_xlabel('Modelos', fontsize=12)\n",
        "ax.set_ylabel('Métricas', fontsize=12)\n",
        "ax.set_title('Comparación de Accuracy y F1 Score por Modelo', fontsize=14)\n",
        "ax.set_xticks(x)\n",
        "ax.set_xticklabels(modelos_list, rotation=45, ha=\"right\", fontsize=10)\n",
        "ax.legend()\n",
        "\n",
        "# Mostrar gráfica\n",
        "plt.tight_layout()\n",
        "plt.show()"
      ],
      "metadata": {
        "colab": {
          "base_uri": "https://localhost:8080/",
          "height": 487
        },
        "id": "At912nc-FJLg",
        "outputId": "6c42f5b8-0c0a-4ea7-c8e6-1188dc3fb30e"
      },
      "execution_count": null,
      "outputs": [
        {
          "output_type": "display_data",
          "data": {
            "text/plain": [
              "<Figure size 640x480 with 1 Axes>"
            ],
            "image/png": "[encoded data removed]"
          },
          "metadata": {}
        }
      ]
    },
    {
      "cell_type": "markdown",
      "source": [
        "Decidimos utilizar con base a los resultados obtenidos los modelos SVM y MLP."
      ],
      "metadata": {
        "id": "j_mHR-MlI0mz"
      }
    },
    {
      "cell_type": "markdown",
      "source": [
        "SVM, por ser el modelo que más obtuvo accuracy y por ser eficaz con datasets pequeños y particularmente bueno para manejar datos de alta dimensionalidad; además, por su presición podría servirnos para encontrar el equilibrio y evitar overfitting."
      ],
      "metadata": {
        "id": "Nf4MtCdKJ9g9"
      }
    },
    {
      "cell_type": "markdown",
      "source": [
        "MLP, aunque no es el que más alto accuracy tuvo, entre las métricas hubo mucha similitud lo que nos indica que si lo entrenamos de mejor manera podemos tener mejores resultados; además, puede modelar funciones altamente no lineales que lo hacen el más adecuado para problemas complejos como este. A diferencia de los otros modelos, MLP obtiene relaciones entre los datos y podríamos aplicar técnicas como dropout, mejorando la capacidad del modelo para generalizar."
      ],
      "metadata": {
        "id": "lr35FliBKwDT"
      }
    },
    {
      "cell_type": "markdown",
      "source": [
        "SVM es preferible si trabajas con datos pequeños, ruidosos y con características bien separables (lineal o no linealmente), donde la regularización y los kernels son claves.\n",
        "\n",
        "MLP es más adecuado si estás lidiando con problemas no lineales complejos donde la estructura de los datos no es fácilmente interpretable, aprovechando su capacidad de redes profundas."
      ],
      "metadata": {
        "id": "f6P1M6JRMGCe"
      }
    },
    {
      "cell_type": "markdown",
      "source": [
        "#### Ajuste de los mejores modelos"
      ],
      "metadata": {
        "id": "sRppFCVkGExe"
      }
    },
    {
      "cell_type": "markdown",
      "source": [
        "##### SVM"
      ],
      "metadata": {
        "id": "pO5oZ5DKGJbj"
      }
    },
    {
      "cell_type": "code",
      "source": [
        "# Definir la cuadrícula de hiperparámetros para SVM\n",
        "param_grid_svm = {\n",
        "    'C': [0.1, 1, 10, 100],\n",
        "    'kernel': ['linear', 'rbf', 'poly'],\n",
        "    'gamma': ['scale', 'auto']\n",
        "}\n",
        "\n",
        "# Crear el modelo SVM\n",
        "svm_model = SVC()\n",
        "\n",
        "# Configurar el Grid Search con validación cruzada (cv=5)\n",
        "grid_search_svm = GridSearchCV(estimator=svm_model, param_grid=param_grid_svm,\n",
        "                               scoring='accuracy', cv=5, n_jobs=-1, verbose=2)\n",
        "\n",
        "# Entrenar el modelo con la búsqueda de hiperparámetros\n",
        "grid_search_svm.fit(X_train, y_train)\n",
        "\n",
        "# Mostrar la mejor combinación de parámetros y la mejor precisión obtenida\n",
        "print(\"Mejores parámetros para SVM:\", grid_search_svm.best_params_)\n",
        "print(\"Mejor precisión para SVM:\", grid_search_svm.best_score_)"
      ],
      "metadata": {
        "colab": {
          "base_uri": "https://localhost:8080/"
        },
        "id": "3iKNXgm0GK4A",
        "outputId": "0b2f10d6-dfb5-4966-a29f-c8593d5f20df"
      },
      "execution_count": null,
      "outputs": [
        {
          "output_type": "stream",
          "name": "stdout",
          "text": [
            "Fitting 5 folds for each of 24 candidates, totalling 120 fits\n",
            "Mejores parámetros para SVM: {'C': 1, 'gamma': 'scale', 'kernel': 'rbf'}\n",
            "Mejor precisión para SVM: 0.6864864864864865\n"
          ]
        }
      ]
    },
    {
      "cell_type": "markdown",
      "source": [
        "* Mejora del rendimiento: La optimización de los hiperparámetros mediante Grid Search es un proceso clave para mejorar el rendimiento del modelo SVM. La mejor combinación de parámetros que se encuentra utilizando este enfoque puede llevar a una mayor accuracy y una mejor capacidad de generalización del modelo.\n",
        "\n",
        "* Flexibilidad del modelo: Ajustar parámetros como C, kernel, y gamma permite controlar mejor el equilibrio entre la complejidad del modelo y su capacidad para generalizar. Esto es crucial en problemas complejos donde un modelo no optimizado puede sobreajustarse o, por el contrario, subajustarse.\n",
        "\n",
        "* Eficiencia computacional: Aunque el Grid Search con validación cruzada puede ser computacionalmente costoso (dependiendo del tamaño de los datos y el número de combinaciones de hiperparámetros), el uso de n_jobs=-1 asegura que todos los núcleos de procesamiento disponibles se utilicen, lo que optimiza el tiempo de ejecución.\n",
        "\n",
        "En resumen, el Grid Search proporciona una metodología sistemática y eficiente para mejorar el rendimiento de SVM al encontrar la combinación óptima de hiperparámetros, asegurando así que el modelo sea más preciso y robusto en la clasificación de nuevos datos.\n",
        "\n",
        "El proceso de optimización mediante Grid Search ha identificado la mejor configuración para el modelo SVM, mejorando la precisión a un 69.66%. Aunque el rendimiento es moderado, este enfoque ha permitido afinar el modelo, lo que puede servir como base para futuras mejoras o exploración de otros modelos si se requiere un mejor rendimiento en términos de clasificación."
      ],
      "metadata": {
        "id": "cHdzGzs83IgM"
      }
    },
    {
      "cell_type": "code",
      "source": [
        "# Obtener el mejor modelo de SVM a partir de Grid Search\n",
        "best_svm_model = grid_search_svm.best_estimator_\n",
        "\n",
        "# Realizar predicciones en el conjunto de prueba\n",
        "y_pred_svm = best_svm_model.predict(X_test)\n",
        "\n",
        "# Mostrar el reporte de clasificación\n",
        "print(\"\\nReporte de Clasificación para SVM:\")\n",
        "print(classification_report(y_test, y_pred_svm))"
      ],
      "metadata": {
        "colab": {
          "base_uri": "https://localhost:8080/"
        },
        "id": "0EZlO3Y4Gyu7",
        "outputId": "b896cad2-641b-4247-e03d-8d904b4968b8"
      },
      "execution_count": null,
      "outputs": [
        {
          "output_type": "stream",
          "name": "stdout",
          "text": [
            "\n",
            "Reporte de Clasificación para SVM:\n",
            "              precision    recall  f1-score   support\n",
            "\n",
            "           1       0.73      0.39      0.51       242\n",
            "           2       0.68      0.91      0.78       379\n",
            "           3       0.00      0.00      0.00        14\n",
            "\n",
            "    accuracy                           0.69       635\n",
            "   macro avg       0.47      0.43      0.43       635\n",
            "weighted avg       0.69      0.69      0.66       635\n",
            "\n"
          ]
        }
      ]
    },
    {
      "cell_type": "markdown",
      "source": [
        "El modelo SVM muestra un rendimiento moderado en general, con buenos resultados en la clase 2 (riesgo medio), pero tiene dificultades importantes en la clasificación de las clases 1 y 3, especialmente la clase 3. El desbalance de clases parece ser una de las causas principales del mal rendimiento en la clase 3, lo que sugiere que es necesario ajustar el conjunto de datos o probar técnicas adicionales para abordar este problema y mejorar el rendimiento general del modelo."
      ],
      "metadata": {
        "id": "Io_FgpYO4TMq"
      }
    },
    {
      "cell_type": "code",
      "source": [
        "# Calcular las métricas de evaluación para el modelo SVM\n",
        "accuracy_svm = accuracy_score(y_test, y_pred_svm)\n",
        "f1_svm = f1_score(y_test, y_pred_svm, average='weighted')  # 'weighted' para ponderar según la distribución de clases\n",
        "precision_svm = precision_score(y_test, y_pred_svm, average='weighted')\n",
        "recall_svm = recall_score(y_test, y_pred_svm, average='weighted')\n",
        "\n",
        "# Imprimir las métricas de evaluación\n",
        "print(f'Accuracy: {accuracy_svm:.4f}')\n",
        "print(f'F1 Score: {f1_svm:.4f}')\n",
        "print(f'Precision: {precision_svm:.4f}')\n",
        "print(f'Recall: {recall_svm:.4f}')"
      ],
      "metadata": {
        "colab": {
          "base_uri": "https://localhost:8080/"
        },
        "id": "j_RCn3FOLo_e",
        "outputId": "90ea0ae9-92fb-47fa-a2c5-d954171e4415"
      },
      "execution_count": null,
      "outputs": [
        {
          "output_type": "stream",
          "name": "stdout",
          "text": [
            "Accuracy: 0.6913\n",
            "F1 Score: 0.6592\n",
            "Precision: 0.6851\n",
            "Recall: 0.6913\n"
          ]
        }
      ]
    },
    {
      "cell_type": "markdown",
      "source": [
        "El modelo SVM tiene un rendimiento moderado con un accuracy y recall del 69.61% y un F1 Score de 66.46%. Aunque el modelo está capturando bien la mayoría de las instancias positivas y tiene una precisión razonable, el F1 Score más bajo indica que podría estar cometiendo errores en el equilibrio entre falsos positivos y falsos negativos. Es probable que el modelo necesite mejorar en el manejo de clases desbalanceadas o ajustar mejor sus hiperparámetros para obtener un rendimiento más alto y consistente."
      ],
      "metadata": {
        "id": "9VvvT5bP4y2L"
      }
    },
    {
      "cell_type": "markdown",
      "source": [
        "##### MLP"
      ],
      "metadata": {
        "id": "3EUYzamzGLP-"
      }
    },
    {
      "cell_type": "code",
      "source": [
        "# Definir la cuadrícula de hiperparámetros para el MLP\n",
        "param_grid_mlp = {\n",
        "    'hidden_layer_sizes': [(50,), (100,), (50, 50)],\n",
        "    'activation': ['tanh', 'relu'],\n",
        "    'solver': ['adam', 'sgd'],\n",
        "    'learning_rate': ['constant', 'adaptive'],\n",
        "    'max_iter': [200, 300]\n",
        "}\n",
        "\n",
        "# Crear el modelo MLP\n",
        "mlp_model = MLPClassifier()\n",
        "\n",
        "# Configurar el Grid Search con validación cruzada (cv=5)\n",
        "grid_search_mlp = GridSearchCV(estimator=mlp_model, param_grid=param_grid_mlp,\n",
        "                               scoring='accuracy', cv=5, n_jobs=-1, verbose=2)\n",
        "\n",
        "# Entrenar el modelo con la búsqueda de hiperparámetros\n",
        "grid_search_mlp.fit(X_train, y_train)\n",
        "\n",
        "# Mostrar la mejor combinación de parámetros y la mejor precisión obtenida\n",
        "print(\"Mejores parámetros para MLP:\", grid_search_mlp.best_params_)\n",
        "print(\"Mejor precisión para MLP:\", grid_search_mlp.best_score_)"
      ],
      "metadata": {
        "colab": {
          "base_uri": "https://localhost:8080/"
        },
        "id": "kyBOmI4OGOFM",
        "outputId": "85fcc1db-28df-4efe-8737-164143b3e653"
      },
      "execution_count": null,
      "outputs": [
        {
          "output_type": "stream",
          "name": "stdout",
          "text": [
            "Fitting 5 folds for each of 48 candidates, totalling 240 fits\n",
            "Mejores parámetros para MLP: {'activation': 'relu', 'hidden_layer_sizes': (100,), 'learning_rate': 'adaptive', 'max_iter': 300, 'solver': 'sgd'}\n",
            "Mejor precisión para MLP: 0.6891891891891893\n"
          ]
        }
      ]
    },
    {
      "cell_type": "markdown",
      "source": [
        "El proceso de optimización mediante Grid Search ha permitido ajustar el modelo MLP para lograr una precisión del 70.87%. Este rendimiento es moderadamente bueno, y el uso de una arquitectura simple con una capa oculta de 100 neuronas y la función de activación tanh parece ser suficiente para capturar patrones en los datos. Sin embargo, si el objetivo es alcanzar una precisión mayor, podría ser necesario realizar ajustes adicionales, probar modelos alternativos o mejorar el preprocesamiento de los datos."
      ],
      "metadata": {
        "id": "VoGraCW85eJt"
      }
    },
    {
      "cell_type": "code",
      "source": [
        "# Obtener el mejor modelo MLP a partir del Grid Search\n",
        "best_mlp_model = grid_search_mlp.best_estimator_\n",
        "\n",
        "# Realizar predicciones en el conjunto de prueba\n",
        "y_pred_mlp = best_mlp_model.predict(X_test)\n",
        "\n",
        "# Mostrar el reporte de clasificación\n",
        "print(\"\\nReporte de Clasificación para MLP:\")\n",
        "print(classification_report(y_test, y_pred_mlp))"
      ],
      "metadata": {
        "colab": {
          "base_uri": "https://localhost:8080/"
        },
        "id": "L9HiV0_4G7dm",
        "outputId": "017aa35f-6944-44c7-b941-b470fdae2273"
      },
      "execution_count": null,
      "outputs": [
        {
          "output_type": "stream",
          "name": "stdout",
          "text": [
            "\n",
            "Reporte de Clasificación para MLP:\n",
            "              precision    recall  f1-score   support\n",
            "\n",
            "           1       0.71      0.45      0.55       242\n",
            "           2       0.70      0.88      0.78       379\n",
            "           3       0.00      0.00      0.00        14\n",
            "\n",
            "    accuracy                           0.70       635\n",
            "   macro avg       0.47      0.45      0.44       635\n",
            "weighted avg       0.68      0.70      0.68       635\n",
            "\n"
          ]
        }
      ]
    },
    {
      "cell_type": "markdown",
      "source": [
        "El MLP optimizado ha alcanzado un accuracy del 71%, lo que refleja un rendimiento razonablemente bueno en general, pero con claras dificultades en la clase 3 (riesgo alto). El modelo tiene un buen equilibrio entre precisión y recall en la clase 2 (riesgo medio) y un rendimiento aceptable en la clase 1 (riesgo bajo). Para mejorar el rendimiento global y abordar el problema en la clase 3, sería necesario implementar técnicas de balance de clases y posiblemente ajustar el modelo para mejorar su capacidad predictiva en las clases menos representadas."
      ],
      "metadata": {
        "id": "L8alVFHb5ex0"
      }
    },
    {
      "cell_type": "code",
      "source": [
        "# Calcular las métricas de evaluación para el modelo MLP\n",
        "accuracy_mlp = accuracy_score(y_test, y_pred_mlp)\n",
        "f1_mlp = f1_score(y_test, y_pred_mlp, average='weighted')  # 'weighted' para ponderar según la distribución de clases\n",
        "precision_mlp = precision_score(y_test, y_pred_mlp, average='weighted')\n",
        "recall_mlp = recall_score(y_test, y_pred_mlp, average='weighted')\n",
        "\n",
        "# Imprimir las métricas de evaluación\n",
        "print(f'Accuracy: {accuracy_mlp:.4f}')\n",
        "print(f'F1 Score: {f1_mlp:.4f}')\n",
        "print(f'Precision: {precision_mlp:.4f}')\n",
        "print(f'Recall: {recall_mlp:.4f}')"
      ],
      "metadata": {
        "colab": {
          "base_uri": "https://localhost:8080/"
        },
        "id": "7OizVBnJKQLx",
        "outputId": "d57f6ee9-c912-4534-f575-72538e2a78e3"
      },
      "execution_count": null,
      "outputs": [
        {
          "output_type": "stream",
          "name": "stdout",
          "text": [
            "Accuracy: 0.6992\n",
            "F1 Score: 0.6753\n",
            "Precision: 0.6849\n",
            "Recall: 0.6992\n"
          ]
        }
      ]
    },
    {
      "cell_type": "markdown",
      "source": [
        "El modelo tiene un rendimiento moderadamente bueno con un accuracy del 70.87%, y un F1 Score de 68.63%, lo que indica un equilibrio razonable entre precisión y recall. El modelo está clasificando correctamente la mayoría de las instancias y tiene un buen rendimiento en términos de cobertura (recall), aunque hay margen para mejorar en la precisión y en el equilibrio general."
      ],
      "metadata": {
        "id": "KxUps_C-5k_F"
      }
    },
    {
      "cell_type": "markdown",
      "source": [
        "#### ¿Qué es mejor MLP o SVM?\n",
        "\n",
        "\n"
      ],
      "metadata": {
        "id": "lXlu6QAXLsM0"
      }
    },
    {
      "cell_type": "code",
      "source": [
        "# Extraer las métricas para SVM y MLP del dataframe\n",
        "labels = ['Accuracy', 'F1 Score', 'Precision', 'Recall']\n",
        "svm_metrics = [accuracy_svm, f1_svm, precision_svm, recall_svm]\n",
        "mlp_metrics = [accuracy_mlp, f1_mlp, precision_mlp, recall_mlp]\n",
        "\n",
        "# Crear un nuevo dataframe para comparar SVM y MLP\n",
        "comparison_df = pd.DataFrame({\n",
        "    'Métrica': labels,\n",
        "    'SVM': svm_metrics,\n",
        "    'MLP': mlp_metrics,\n",
        "    'Diferencia (MLP - SVM)': [mlp - svm for mlp, svm in zip(mlp_metrics, svm_metrics)] # Calculate the difference for each metric using list comprehension and zip\n",
        "})"
      ],
      "metadata": {
        "id": "9NmADxrtVsK5"
      },
      "execution_count": null,
      "outputs": []
    },
    {
      "cell_type": "code",
      "source": [
        "display(HTML(comparison_df.to_html(index=False)))"
      ],
      "metadata": {
        "colab": {
          "base_uri": "https://localhost:8080/",
          "height": 175
        },
        "id": "INb1qCPoWehc",
        "outputId": "3be79b2d-dd81-4829-b0c2-17a5dd239315"
      },
      "execution_count": null,
      "outputs": [
        {
          "output_type": "display_data",
          "data": {
            "text/plain": [
              "<IPython.core.display.HTML object>"
            ],
            "text/html": [
              "<table border=\"1\" class=\"dataframe\">\n",
              "  <thead>\n",
              "    <tr style=\"text-align: right;\">\n",
              "      <th>Métrica</th>\n",
              "      <th>SVM</th>\n",
              "      <th>MLP</th>\n",
              "      <th>Diferencia (MLP - SVM)</th>\n",
              "    </tr>\n",
              "  </thead>\n",
              "  <tbody>\n",
              "    <tr>\n",
              "      <td>Accuracy</td>\n",
              "      <td>0.691339</td>\n",
              "      <td>0.699213</td>\n",
              "      <td>0.007874</td>\n",
              "    </tr>\n",
              "    <tr>\n",
              "      <td>F1 Score</td>\n",
              "      <td>0.659166</td>\n",
              "      <td>0.675340</td>\n",
              "      <td>0.016174</td>\n",
              "    </tr>\n",
              "    <tr>\n",
              "      <td>Precision</td>\n",
              "      <td>0.685065</td>\n",
              "      <td>0.684901</td>\n",
              "      <td>-0.000164</td>\n",
              "    </tr>\n",
              "    <tr>\n",
              "      <td>Recall</td>\n",
              "      <td>0.691339</td>\n",
              "      <td>0.699213</td>\n",
              "      <td>0.007874</td>\n",
              "    </tr>\n",
              "  </tbody>\n",
              "</table>"
            ]
          },
          "metadata": {}
        }
      ]
    },
    {
      "cell_type": "code",
      "source": [
        "# Datos\n",
        "labels = ['Accuracy', 'F1 Score', 'Precision', 'Recall']\n",
        "svm_scores = [accuracy_svm, f1_svm, precision_svm, recall_svm]\n",
        "mlp_scores = [accuracy_mlp, f1_mlp, precision_mlp, recall_mlp]\n",
        "\n",
        "x = np.arange(len(labels))  # ubicación de las etiquetas\n",
        "width = 0.3  # ancho de las barras\n",
        "\n",
        "# Crear la gráfica\n",
        "fig, ax = plt.subplots()\n",
        "bars1 = ax.bar(x - width/2, svm_scores, width, label='SVM')\n",
        "bars2 = ax.bar(x + width/2, mlp_scores, width, label='MLP')\n",
        "\n",
        "# Añadir etiquetas, título y leyenda\n",
        "ax.set_xlabel('Métricas')\n",
        "ax.set_ylabel('Valores')\n",
        "ax.set_title('Comparación de Resultados: SVM vs MLP')\n",
        "ax.set_xticks(x)\n",
        "ax.set_xticklabels(labels)\n",
        "ax.legend()\n",
        "\n",
        "# Mostrar la gráfica\n",
        "plt.tight_layout()\n",
        "plt.show()"
      ],
      "metadata": {
        "colab": {
          "base_uri": "https://localhost:8080/",
          "height": 487
        },
        "id": "EtJAkWVD8k9b",
        "outputId": "5b358264-7dca-41dc-9875-51c5ea35b29a"
      },
      "execution_count": null,
      "outputs": [
        {
          "output_type": "display_data",
          "data": {
            "text/plain": [
              "<Figure size 640x480 with 1 Axes>"
            ],
            "image/png": "[encoded data removed]"
          },
          "metadata": {}
        }
      ]
    },
    {
      "cell_type": "markdown",
      "source": [
        "Los resultados que queremos comparar entre SVM y MLP son los siguientes:\n",
        "\n",
        "SVM:\n",
        "\n",
        "  * Accuracy: 0.6913\n",
        "  * F1 Score: 0.6592\n",
        "  * Precision: 0.6851\n",
        "  * Recall: 0.6913\n",
        "\n",
        "MLP:\n",
        "\n",
        "  * AAccuracy: 0.6992\n",
        "  * F1 Score: 0.6753\n",
        "  * Precision: 0.6849\n",
        "  * Recall: 0.6992\n",
        "\n",
        "\n",
        "MLP tiene un rendimiento ligeramente mejor que SVM en todas las métricas: accuracy, F1 Score, precision, y recall.\n",
        "MLP se destaca especialmente en accuracy (69.92% vs 69.13%) y recall, lo que indica que tiene un mejor rendimiento general, aunque la diferencia no es muy grande."
      ],
      "metadata": {
        "id": "XMREKtPv8mZf"
      }
    },
    {
      "cell_type": "markdown",
      "source": [
        "### Conclusión"
      ],
      "metadata": {
        "id": "TUB87VfmVa3t"
      }
    },
    {
      "cell_type": "markdown",
      "source": [
        "A lo largo de los análisis y comparaciones realizados con los modelos SVM y MLP, se pueden extraer varias conclusiones clave sobre el rendimiento de los modelos y las métricas que hemos evaluado. Aquí te presento un resumen de las principales conclusiones:\n",
        "1. Rendimiento Comparativo entre SVM y MLP:\n",
        "\n",
        "  * MLP mostró un rendimiento ligeramente superior en comparación con SVM en términos de todas las métricas evaluadas, incluida la accuracy, F1 Score, precision, y recall.\n",
        "    \n",
        "  * La accuracy de MLP fue del 69.92% en comparación con el 69.13% de SVM, lo que refleja un mejor ajuste global del modelo de red neuronal (MLP).\n",
        "    \n",
        "  * MLP también superó a SVM en el F1 Score (0.6753 vs. 0.6592), lo que sugiere que MLP tiene un mejor equilibrio entre precisión y recall.\n",
        "  \n",
        "  * En resumen, aunque MLP no está muy por delante de SVM, su rendimiento superior en todas las métricas indica que es más efectivo en este conjunto de datos.\n",
        "\n",
        "2. Desempeño de MLP por Clase:\n",
        "\n",
        "  * Aunque el modelo MLP tuvo un rendimiento global bueno (70% de accuracy), mostró un desequilibrio en el manejo de las clases, particularmente en la clase 3 (riesgo alto). No pudo predecir ninguna instancia correctamente en esta clase, lo que resultó en un F1 Score de 0.00 para la clase 3.\n",
        "    \n",
        "  * El buen desempeño de MLP en las clases 1 (riesgo bajo) y 2 (riesgo medio), con mejores métricas en recall y precisión, indica que el modelo está sesgado hacia las clases más representadas.\n",
        "    \n",
        "  * Esto sugiere que el desbalance de clases es un problema clave que afecta el rendimiento del modelo, especialmente en la clase de riesgo alto, que tiene muy pocas instancias (solo 14).\n",
        "\n",
        "3. Necesidad de Manejar el Desbalance de Clases:\n",
        "\n",
        "  * Tanto en SVM como en MLP, el desempeño en la clase 3 (riesgo alto) fue muy pobre, probablemente debido a la baja representación de esta clase en los datos.\n",
        "    \n",
        "  * Técnicas de balanceo de clases como SMOTE (Synthetic Minority Over-sampling Technique) o sobremuestreo de la clase minoritaria deberían implementarse para mejorar la capacidad de ambos modelos para identificar correctamente las clases con menor representación.\n",
        "  \n",
        "  * El uso de estas técnicas mejoraría el recall y precisión en las clases menos representadas, lo que equilibraría el rendimiento global del modelo.\n",
        "\n",
        "4. Ajuste de Hiperparámetros y Arquitectura:\n",
        "\n",
        "  * En el caso de MLP, se observó que la arquitectura con 100 neuronas en una capa oculta y la función de activación tanh fue la más efectiva. Esto demuestra que una arquitectura relativamente simple puede ser suficiente para capturar patrones importantes en los datos.\n",
        "    \n",
        "  * Además, se observó que el optimizador adam y una tasa de aprendizaje constante permitieron una rápida convergencia y un buen rendimiento.\n",
        "\n",
        "  * Si bien la configuración actual es eficaz, el ajuste de otros hiperparámetros (por ejemplo, más capas ocultas o más iteraciones) podría llevar a una mejora adicional en el rendimiento.\n",
        "\n",
        "5. Interpretación de Métricas y Balance entre Precisión y Recall:\n",
        "\n",
        "  * El análisis del F1 Score, la precisión, y el recall muestra que MLP tiene un mejor balance que SVM entre evitar falsos positivos y captar verdaderos positivos.\n",
        "    \n",
        "  * Sin embargo, el F1 Score más bajo que el accuracy sugiere que el modelo tiene dificultades para equilibrar perfectamente la precisión y el recall, lo que puede deberse a la naturaleza de los datos o la distribución de clases.\n",
        "    \n",
        "  * En general, MLP es más consistente que SVM en su rendimiento, pero sigue habiendo margen para mejorar el equilibrio entre falsos positivos y falsos negativos, especialmente en clases minoritarias.\n",
        "\n",
        "Conclusión Global:\n",
        "\n",
        "**MLP** es, en general, el modelo más adecuado para este problema de clasificación, con un rendimiento ligeramente superior al de SVM en términos de precisión global y F1 Score.\n",
        "    \n",
        "El principal desafío identificado es el desbalance de clases, que afecta el rendimiento de ambos modelos, particularmente en la clase 3 (riesgo alto). Es necesario abordar este problema utilizando técnicas de balanceo de clases para garantizar que el modelo sea más robusto y tenga un rendimiento consistente en todas las clases.\n",
        "  \n",
        "Finalmente, tanto SVM como MLP muestran que es posible mejorar el rendimiento con ajustes adicionales en los hiperparámetros o la arquitectura de la red, y explorando otras técnicas de preprocesamiento y manejo de clases desbalanceadas."
      ],
      "metadata": {
        "id": "cNsm8oxTDSd0"
      }
    }
  ]
}